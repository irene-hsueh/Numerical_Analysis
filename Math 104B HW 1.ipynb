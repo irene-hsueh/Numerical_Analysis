{
 "cells": [
  {
   "cell_type": "markdown",
   "metadata": {},
   "source": [
    "# Question 1"
   ]
  },
  {
   "cell_type": "markdown",
   "metadata": {},
   "source": [
    "## (a)"
   ]
  },
  {
   "cell_type": "markdown",
   "metadata": {},
   "source": [
    "sign: $2$; $b_1b_2$: $2^2=4$; exponent: $3$. Thus this system can represent $2\\times 4\\times 3=24$ numbers."
   ]
  },
  {
   "cell_type": "markdown",
   "metadata": {},
   "source": [
    "## (b)"
   ]
  },
  {
   "cell_type": "markdown",
   "metadata": {},
   "source": [
    "![](1.png)\n",
    "\n",
    "All these numbers are shown in the real line."
   ]
  },
  {
   "cell_type": "markdown",
   "metadata": {},
   "source": [
    "## (c)"
   ]
  },
  {
   "cell_type": "markdown",
   "metadata": {},
   "source": [
    "By the definition of $eps$, we get $\\text{eps}=2^{-2}$."
   ]
  },
  {
   "cell_type": "markdown",
   "metadata": {},
   "source": [
    "# Question 2"
   ]
  },
  {
   "cell_type": "markdown",
   "metadata": {},
   "source": [
    "Clearly, there are $2^{64}$ number in double precision."
   ]
  },
  {
   "cell_type": "markdown",
   "metadata": {},
   "source": [
    "# Question 3"
   ]
  },
  {
   "cell_type": "markdown",
   "metadata": {},
   "source": [
    "Do arithmetic with only two digits using rounding, computing $(x-y)^2$ gives\n",
    "$$\n",
    "\\begin{aligned}\n",
    "1 \\qquad & x-y=2.5-2.4=0.1 \\\\\n",
    "2 \\qquad & (x-y)^2=0.1^2=0.01\n",
    "\\end{aligned}\n",
    "$$\n",
    "\n",
    "and computing $x^2-2xy+y^2$ gives\n",
    "$$\n",
    "\\begin{aligned}\n",
    "1 \\qquad & x^2=2.5^2=6.3 \\\\\n",
    "2 \\qquad & 2x=2\\cdot2.5=5 \\\\\n",
    "3 \\qquad & 2xy=5.0\\cdot2.4=12 \\\\\n",
    "4 \\qquad & y^2=2.4^2\\approx5.8 \\\\\n",
    "5 \\qquad & x^2-2xy=6.3-12=-5.7 \\\\\n",
    "6 \\qquad & x^2-2xy+y^2=-5.7+5.8=0.1 \\\\\n",
    "\\end{aligned}\n",
    "$$"
   ]
  },
  {
   "cell_type": "markdown",
   "metadata": {},
   "source": [
    "# Question 4"
   ]
  },
  {
   "cell_type": "code",
   "execution_count": 26,
   "metadata": {},
   "outputs": [],
   "source": [
    "from math import *"
   ]
  },
  {
   "cell_type": "markdown",
   "metadata": {},
   "source": [
    "See when $x=0.05$, the floating number representations of $x$ and $\\sin x$ are given by"
   ]
  },
  {
   "cell_type": "code",
   "execution_count": 27,
   "metadata": {},
   "outputs": [
    {
     "data": {
      "text/plain": [
       "'0x1.999999999999ap-5'"
      ]
     },
     "execution_count": 27,
     "metadata": {},
     "output_type": "execute_result"
    }
   ],
   "source": [
    "(0.05).hex()"
   ]
  },
  {
   "cell_type": "markdown",
   "metadata": {},
   "source": [
    "$0.05=(1.1001100110011001100110011001100110011001100110011010)_2\\times2^{-5}$"
   ]
  },
  {
   "cell_type": "code",
   "execution_count": 31,
   "metadata": {},
   "outputs": [
    {
     "data": {
      "text/plain": [
       "'0x1.996dea2ff643cp-5'"
      ]
     },
     "execution_count": 31,
     "metadata": {},
     "output_type": "execute_result"
    }
   ],
   "source": [
    "(sin(0.05)).hex()"
   ]
  },
  {
   "cell_type": "markdown",
   "metadata": {},
   "source": [
    "$\\sin(0.05)=(1.1001100101101101111010100010111111110110010000111100)_2\\times2^{-5}$"
   ]
  },
  {
   "cell_type": "markdown",
   "metadata": {},
   "source": [
    "Thus directly computing $y$ gives\n",
    "$$\n",
    "0.05-\\sin(0.05)=(1.1011101011110110100110100011010101011110***********)_2\\times2^{-16}\n",
    "$$\n",
    "where $11$ digits are lost. An alternative way to compute $y$ with nearly full machine precision is\n",
    "$$\n",
    "y=\\frac{x+\\sin x}{x+\\sin x}(x-\\sin x)=\\frac{x^2-\\sin^2 x}{x+\\sin x}\n",
    "$$\n",
    "\n"
   ]
  },
  {
   "cell_type": "markdown",
   "metadata": {},
   "source": [
    "# Question 5"
   ]
  },
  {
   "cell_type": "markdown",
   "metadata": {},
   "source": [
    "## (a)"
   ]
  },
  {
   "cell_type": "markdown",
   "metadata": {},
   "source": [
    "$$\n",
    "y=\\frac{\\sqrt{1+x}+1}{\\sqrt{1+x}+1}(\\sqrt{1+x}-1)=\\frac{1+x-1}{\\sqrt{1+x}+1}=\\frac{x}{\\sqrt{1+x}+1}\n",
    "$$"
   ]
  },
  {
   "cell_type": "markdown",
   "metadata": {},
   "source": [
    "## (b)"
   ]
  },
  {
   "cell_type": "markdown",
   "metadata": {},
   "source": [
    "Suppose the floating number representations of $x$ and $\\sqrt{1+x}$ are given by\n",
    "$$\n",
    "x=(1.a_1a_2\\dots a_n)_2\\times 2^{E_a} \\; \\text{and} \\; \\sqrt{1+x}=(1.b_1b_2\\dots b_n)_2\\times 2^{E_b}\n",
    "$$\n",
    "\n",
    "Then\n",
    "$$\n",
    "y=\\frac{x}{\\sqrt{1+x}+1}=\\frac{(1.a_1a_2\\dots a_n)_2\\times 2^{E_a}}{(1.b_1b_2\\dots b_n)_2\\times 2^{E_b}+1}\n",
    "$$\n",
    "Clearly $y$  is computed with nearly full machine precision."
   ]
  },
  {
   "cell_type": "markdown",
   "metadata": {},
   "source": [
    "# Question 6"
   ]
  },
  {
   "cell_type": "code",
   "execution_count": 32,
   "metadata": {},
   "outputs": [
    {
     "name": "stdout",
     "output_type": "stream",
     "text": [
      "eps0= 2.220446049250313e-16 2^(-52)= 2.220446049250313e-16\n"
     ]
    }
   ],
   "source": [
    "# Machine precision\n",
    "a=4/3\n",
    "b=a-1\n",
    "c=b+b+b\n",
    "eps0=abs(c-1)\n",
    "\n",
    "print('eps0=',eps0,'2^(-52)=',2**(-52))"
   ]
  },
  {
   "cell_type": "markdown",
   "metadata": {},
   "source": [
    "Prove its validity,\n",
    "$$\n",
    "a=4/3=(1.0101010101010101010101010101010101010101010101010101)_2\\times 2^0\n",
    "$$\n",
    "\n",
    "$$\n",
    "b=a-1=(1.0101010101010101010101010101010101010101010101010100)_2\\times 2^{-2}\n",
    "$$\n",
    "\n",
    "$$\n",
    "c=b+b+b=(1.11111111111111111111111111111111111111111111111110)_2\\times 2^{-1}\n",
    "$$\n",
    "\n",
    "$$\n",
    "\\text{eps0}=\\text{abs}(c-1)=(1.0000000000000000000000000000000000000000000000000000)_2\\times 2^{-52}\n",
    "$$\n",
    "\n"
   ]
  }
 ],
 "metadata": {
  "kernelspec": {
   "display_name": "Python 3",
   "language": "python",
   "name": "python3"
  },
  "language_info": {
   "codemirror_mode": {
    "name": "ipython",
    "version": 3
   },
   "file_extension": ".py",
   "mimetype": "text/x-python",
   "name": "python",
   "nbconvert_exporter": "python",
   "pygments_lexer": "ipython3",
   "version": "3.7.6"
  }
 },
 "nbformat": 4,
 "nbformat_minor": 4
}
