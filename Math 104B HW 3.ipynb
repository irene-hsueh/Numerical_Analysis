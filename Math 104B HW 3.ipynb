{
 "cells": [
  {
   "cell_type": "code",
   "execution_count": 1,
   "metadata": {},
   "outputs": [],
   "source": [
    "from math import *"
   ]
  },
  {
   "cell_type": "markdown",
   "metadata": {},
   "source": [
    "# Question 1"
   ]
  },
  {
   "cell_type": "markdown",
   "metadata": {},
   "source": [
    "The Hermite-interpolation polynomial, which interpolates $f(-1)$, $f(0)$, $f'(0)$, and $f(1)$ is\n",
    "$$\n",
    "p(x)=f(-1)+f[-1,0](x+1)+f[-1,0,0](x+1)x+f[-1,0,0,1](x+1)x^2\n",
    "$$\n",
    "where\n",
    "$$\n",
    "f[-1,0]=\\frac{f(0)-f(-1)}{0-(-1)}=f(0)-f(-1)\n",
    "$$\n",
    "\n",
    "$$\n",
    "f[-1,0,0]=f'(0)-f[-1,0]=f'(0)-f(0)+f(-1)\n",
    "$$\n",
    "\n",
    "and\n",
    "$$\n",
    "\\begin{aligned}\n",
    "f[-1,0,0,1]=&\\frac{1}{2}(f[0,0,1]-f[-1,0,0])=\\frac{1}{2}(f[0,1]-f'(0)-f[-1,0,0]) \\\\\n",
    "=&\\frac{1}{2}(f(1)-f(0)-f'(0)-f[-1,0,0])=\\frac{1}{2}(f(1)-2f'(0)-f(-1))\n",
    "\\end{aligned}\n",
    "$$\n",
    "Approximating the integrand $f$ with the Hermite-interpolation polynomial implies\n",
    "$$\n",
    "\\begin{aligned}\n",
    "\\int^1_{-1}f(x)dx\\approx& \\int^1_{-1}p(x)dx \\\\\n",
    "=&2f(-1)+2f[-1,0]+\\frac{2}{3}f[-1,0,0]+\\frac{2}{3}f[-1,0,0,1]\\\\\n",
    "=&2f(-1)+2(f(0)-f(-1))+\\frac{2}{3}(f'(0)-f(0)+f(-1))+\\frac{1}{3}(f(1)-2f'(0)-f(-1))\\\\\n",
    "=&\\frac{1}{3}(f(-1)+4f(0)+f(1))\n",
    "\\end{aligned}\n",
    "$$\n",
    "Thus we directly get the simple Simpson rule."
   ]
  },
  {
   "cell_type": "markdown",
   "metadata": {},
   "source": [
    "# Question 2"
   ]
  },
  {
   "cell_type": "markdown",
   "metadata": {},
   "source": [
    "## (a)"
   ]
  },
  {
   "cell_type": "markdown",
   "metadata": {},
   "source": [
    "The approximation of the simple Trapezoidal rule over $[-1,1]$\n",
    "$$\n",
    "\\int^{1}_{-1}f(x)dx\\approx \\frac{1+1}{2}(f(-1)+f(1))=0+0=0\n",
    "$$\n"
   ]
  },
  {
   "cell_type": "markdown",
   "metadata": {},
   "source": [
    "## (b)"
   ]
  },
  {
   "cell_type": "markdown",
   "metadata": {},
   "source": [
    "The approximation of the simple Simpson rule over $[-1,1]$\n",
    "$$\n",
    "\\int^{1}_{-1}f(x)dx\\approx\\frac{1}{3}(f(-1)+4f(0)+f(1))=\\frac{1}{3}(0+4+0)=\\frac{4}{3}\n",
    "$$\n"
   ]
  },
  {
   "cell_type": "markdown",
   "metadata": {},
   "source": [
    "## (c)"
   ]
  },
  {
   "cell_type": "markdown",
   "metadata": {},
   "source": [
    "The approximation of the simple Trapezoidal rule over $[-1,0]$ and $[0,1]$\n",
    "$$\n",
    "\\int^{1}_{-1}f(x)dx\\approx\\frac{0+1}{2}(f(-1)+f(0))+\\frac{1-0}{2}(f(0)+f(1))=\\frac{1}{2}+\\frac{1}{2}=1\n",
    "$$"
   ]
  },
  {
   "cell_type": "markdown",
   "metadata": {},
   "source": [
    "## "
   ]
  },
  {
   "cell_type": "markdown",
   "metadata": {},
   "source": [
    "Note\n",
    "$$\n",
    "\\int^{1}_{-1}f(x)dx=\\int^{0}_{-1}(1+x)dx+\\int^{1}_{0}(1-x)dx=\\frac{1}{2}(1+x)^2\\bigg|^{0}_{-1}-\\frac{1}{2}(1-x)^2\\bigg|^{1}_{0}=\\frac{1}{2}+\\frac{1}{2}=1\n",
    "$$\n",
    "The error in each case is\n",
    "\n",
    "(a): $0-1=-1$\n",
    "\n",
    "(b): $4/3-1=1/3$\n",
    "\n",
    "(c): $1-1=0$\n",
    "\n",
    "For the same interval, the simple Simpson Rule considers more nodes than the simple Trapezoidal Rule, so the simple Simpson Rule is more accurate. If an interval is divided into multiple subintervals, it is more accurate to apply a quadrature rule to these subintervals respectively than to directly use the quadrature rule to the whole interval."
   ]
  },
  {
   "cell_type": "markdown",
   "metadata": {},
   "source": [
    "# Question 3"
   ]
  },
  {
   "cell_type": "markdown",
   "metadata": {},
   "source": [
    "## (a)"
   ]
  },
  {
   "cell_type": "markdown",
   "metadata": {},
   "source": [
    "Use $f(x)=\\sum^{2}_{n=0}c_n x^n$ to test this quadrature rule. We see\n",
    "$$\n",
    "\\int^{1}_{-1}f(x)dx=\\sum^{2}_{n=0}c_n\\frac{1-(-1)^{n+1}}{n+1}=2c_0+\\frac{2}{3}c_2\n",
    "$$\n",
    "and\n",
    "$$\n",
    "\\begin{aligned}\n",
    "A_0f(-1)+A_1f(0)+A_2f(1)&=A_0(c_0-c_1+c_2)+A_1c_0+A_2(c_0+c_1+c_2)\\\\\n",
    "&=(A_0+A_1+A_2)c_0+(-A_0+A_2)c_1+(A_0+A_2)c_2\n",
    "\\end{aligned}\n",
    "$$\n",
    "It implies\n",
    "$$\n",
    "A_0+A_1+A_2=2, \\; -A_0+A_2=0, \\;A_0+A_2=\\frac{2}{3}\n",
    "$$\n",
    "Solve this linear system\n",
    "$$\n",
    "A_0=\\frac{1}{3},A_1=\\frac{4}{3},A_2=\\frac{1}{3}\n",
    "$$\n",
    "Thus a quadrature rule of the form\n",
    "$$\n",
    "\\int^{1}_{-1}f(x)dx\\approx \\frac{1}{3}f(-1)+\\frac{4}{3}f(0)+\\frac{1}{3}f(1)\n",
    "$$\n",
    "is exact for polynomials of degree $2$.\n",
    "\n"
   ]
  },
  {
   "cell_type": "markdown",
   "metadata": {},
   "source": [
    "## (b)"
   ]
  },
  {
   "cell_type": "markdown",
   "metadata": {},
   "source": [
    "The Legendre polynomial of degree $3$ is\n",
    "$$\n",
    "\\psi_3(x)=x^3-\\frac{3}{5}x=x(x-\\sqrt{3/5})(x+\\sqrt{3/5})\n",
    "$$\n",
    "which has roots $0,\\sqrt{3/5},-\\sqrt{3/5}$. Then the 3-point (Legendre) Gaussian quadrature is\n",
    "$$\n",
    "\\int^{1}_{-1}f(x)dx\\approx A_0f\\left(-\\sqrt{3/5}\\right)+A_1f\\left(0\\right)+A_2f\\left(\\sqrt{3/5}\\right)\n",
    "$$\n",
    "Use $f(x)=\\sum^{2}_{n=0}c_n x^n$ to test this quadrature rule. We see\n",
    "$$\n",
    "\\int^{1}_{-1}f(x)dx=\\sum^{2}_{n=0}c_n\\frac{1-(-1)^{n+1}}{n+1}=2c_0+\\frac{2}{3}c_2\n",
    "$$\n",
    "and\n",
    "$$\n",
    "\\begin{aligned}\n",
    "A_0f\\left(-\\sqrt{3/5}\\right)+A_1f\\left(0\\right)+A_2f\\left(\\sqrt{3/5}\\right)&=A_0\\left(c_0-c_1\\sqrt{\\frac{3}{5}}+c_2\\frac{3}{5}\\right)+A_1c_0+A_2\\left(c_0+c_1\\sqrt{\\frac{3}{5}}+c_2\\frac{3}{5}\\right)\\\\\n",
    "&=(A_0+A_1+A_2)c_0+\\sqrt{\\frac{3}{5}}(-A_0+A_2)c_1+\\frac{3}{5}(A_0+A_2)c_2\n",
    "\\end{aligned}\n",
    "$$\n",
    "It implies\n",
    "$$\n",
    "A_0+A_1+A_2=2, \\; \\sqrt{\\frac{3}{5}}(-A_0+A_2)=0, \\;\\frac{3}{5}(A_0+A_2)=\\frac{2}{3}\n",
    "$$\n",
    "Solve this linear system\n",
    "$$\n",
    "A_0=\\frac{5}{9}, \\; A_1=\\frac{8}{9}, \\; A_2=\\frac{5}{9}\n",
    "$$\n",
    "Thus the 3-point (Legendre) Gaussian quadrature is\n",
    "$$\n",
    "\\int^{1}_{-1}f(x)dx\\approx \\frac{5}{9}f\\left(-\\sqrt{3/5}\\right)+\\frac{8}{9}f\\left(0\\right)+\\frac{5}{9}f\\left(\\sqrt{3/5}\\right)\n",
    "$$\n"
   ]
  },
  {
   "cell_type": "markdown",
   "metadata": {},
   "source": [
    "## (c)"
   ]
  },
  {
   "cell_type": "markdown",
   "metadata": {},
   "source": [
    "Use $f(x)=\\sum^{5}_{n=0}c_n x^n$ to test this quadrature rule. We see\n",
    "$$\n",
    "\\int^{1}_{-1}f(x)dx=\\sum^{5}_{n=0}c_n\\frac{1-(-1)^{n+1}}{n+1}=2c_0+\\frac{2}{3}c_2+\\frac{2}{5}c_4\n",
    "$$\n",
    "and\n",
    "$$\n",
    "\\begin{aligned}\n",
    "\\frac{5}{9}f\\left(-\\sqrt{3/5}\\right)+\\frac{8}{9}f\\left(0\\right)+\\frac{5}{9}f\\left(\\sqrt{3/5}\\right)=&\\frac{8}{9}c_0+\\frac{10}{9}\\left[c_0+c_2\\left(\\sqrt{\\frac{3}{5}}\\right)^2+c_4\\left(\\sqrt{\\frac{3}{5}}\\right)^4\\right] \\\\\n",
    "=&2c_0+\\frac{2}{3}c_2+\\frac{2}{5}c_4\n",
    "\\end{aligned}\n",
    "$$\n",
    "And use $f(x)=\\sum^{6}_{n=0}c_n x^n$ to test this quadrature rule. We see\n",
    "$$\n",
    "\\int^{1}_{-1}f(x)dx=\\sum^{6}_{n=0}c_n\\frac{1-(-1)^{n+1}}{n+1}=2c_0+\\frac{2}{3}c_2+\\frac{2}{5}c_4+\\frac{2}{7}c_6\n",
    "$$\n",
    "and\n",
    "$$\n",
    "\\begin{aligned}\n",
    "\\frac{5}{9}f\\left(-\\sqrt{3/5}\\right)+\\frac{8}{9}f\\left(0\\right)+\\frac{5}{9}f\\left(\\sqrt{3/5}\\right)=&\\frac{8}{9}c_0+\\frac{10}{9}\\left[c_0+c_2\\left(\\sqrt{\\frac{3}{5}}\\right)^2+c_4\\left(\\sqrt{\\frac{3}{5}}\\right)^4+c_6\\left(\\sqrt{\\frac{3}{5}}\\right)^6\\right] \\\\\n",
    "=&2c_0+\\frac{2}{3}c_2+\\frac{2}{5}c_4+\\frac{6}{25}c_6\n",
    "\\end{aligned}\n",
    "$$\n",
    "Thus the 3-point (Legendre) Gaussian quadrature is exact for polynomials of degree $\\le 5$."
   ]
  },
  {
   "cell_type": "markdown",
   "metadata": {},
   "source": [
    "## (d)"
   ]
  },
  {
   "cell_type": "markdown",
   "metadata": {},
   "source": [
    "Note the 3-point Gaussian quadrature\n",
    "$$\n",
    "\\frac{5}{9}e^{-\\sqrt{3/5}}+\\frac{8}{9}+\\frac{5}{9}e^{\\sqrt{3/5}}-\\int^{1}_{-1}e^{x}dx\\approx-6.54586075912178\\times10^{-5}\n",
    "$$"
   ]
  },
  {
   "cell_type": "code",
   "execution_count": 2,
   "metadata": {},
   "outputs": [
    {
     "name": "stdout",
     "output_type": "stream",
     "text": [
      "-6.54586075912178e-05\n"
     ]
    }
   ],
   "source": [
    "print(5/9*exp(-sqrt(3/5))+8/9+5/9*exp(sqrt(3/5))-exp(1)+exp(-1))"
   ]
  },
  {
   "cell_type": "markdown",
   "metadata": {},
   "source": [
    "And the simple Simpson rule\n",
    "$$\n",
    "\\frac{1}{3}e^{-1}+\\frac{4}{3}+\\frac{1}{3}e-\\int^{1}_{-1}e^{x}dx\\approx0.011651369255893052\n",
    "$$"
   ]
  },
  {
   "cell_type": "code",
   "execution_count": 3,
   "metadata": {},
   "outputs": [
    {
     "name": "stdout",
     "output_type": "stream",
     "text": [
      "0.011651369255893052\n"
     ]
    }
   ],
   "source": [
    "print(1/3*exp(-1)+4/3+1/3*exp(1)-exp(1)+exp(-1))"
   ]
  },
  {
   "cell_type": "markdown",
   "metadata": {},
   "source": [
    "Thus the 3-point Gaussian quadrature is more accurate."
   ]
  },
  {
   "cell_type": "markdown",
   "metadata": {},
   "source": [
    "## (e)"
   ]
  },
  {
   "cell_type": "markdown",
   "metadata": {},
   "source": [
    "\n",
    "Consider\n",
    "$$\n",
    "x=\\frac{b-a}{2}(t+1)+a=\\frac{b-a}{2}t+\\frac{b+a}{2}\n",
    "$$\n",
    "And\n",
    "$$\n",
    "g(t)=f(x)=f\\left(\\frac{b-a}{2}t+\\frac{b+a}{2}\\right)\n",
    "$$\n",
    "Then\n",
    "$$\n",
    "\\int^{b}_{a}f(x)dx=\\int^{1}_{-1}f\\left(\\frac{b-a}{2}t+\\frac{b+a}{2}\\right)\\frac{b-a}{2}dt=\\frac{b-a}{2}\\int^{1}_{-1}g(t)dt\\approx\\frac{b-a}{2}\\left(\\frac{5}{9}g\\left(-\\sqrt{3/5}\\right)+\\frac{8}{9}g\\left(0\\right)+\\frac{5}{9}g\\left(\\sqrt{3/5}\\right)\\right)\n",
    "$$\n",
    "Thus the the 3-point Gaussian quadrature for $\\int^b_a f(x)dx$ is\n",
    "$$\n",
    "\\int^{b}_{a}f(x)dx\\approx\\frac{5(b-a)}{18}f\\left(-\\sqrt{\\frac{3}{5}}\\frac{b-a}{2}+\\frac{b+a}{2}\\right)+\\frac{4(b-a)}{9}f\\left(\\frac{b+a}{2}\\right)+\\frac{5(b-a)}{18}f\\left(\\sqrt{\\frac{3}{5}}\\frac{b-a}{2}+\\frac{b+a}{2}\\right)\n",
    "$$"
   ]
  },
  {
   "cell_type": "markdown",
   "metadata": {},
   "source": [
    "Apply this to approximate\n",
    "$$\n",
    "\\begin{aligned}\n",
    "\\int^{4}_{0}\\frac{\\sin{x}}{x}dx\\approx&\\frac{5\\cdot4}{18}f\\left(-\\sqrt{\\frac{3}{5}}\\frac{4}{2}+\\frac{4}{2}\\right)+\\frac{4\\cdot4}{9}f\\left(\\frac{4}{2}\\right)+\\frac{5\\cdot4}{18}f\\left(\\sqrt{\\frac{3}{5}}\\frac{4}{2}+\\frac{4}{2}\\right) \\\\\n",
    "=&\\frac{10}{9}f\\left(-2\\sqrt{\\frac{3}{5}}+2\\right)+\\frac{16}{9}f\\left(2\\right)+\\frac{10}{9}f\\left(2\\sqrt{\\frac{3}{5}}+2\\right) \\\\\n",
    "\\approx&1.7580220254363572\n",
    "\\end{aligned}\n",
    "$$"
   ]
  },
  {
   "cell_type": "code",
   "execution_count": 4,
   "metadata": {},
   "outputs": [
    {
     "name": "stdout",
     "output_type": "stream",
     "text": [
      "1.7580220254363572\n"
     ]
    }
   ],
   "source": [
    "f = lambda x: sin(x)/x\n",
    "print(10/9*f(-2*sqrt(3/5)+2)+16/9*f(2)+10/9*f(2*sqrt(3/5)+2))"
   ]
  }
 ],
 "metadata": {
  "kernelspec": {
   "display_name": "Python 3",
   "language": "python",
   "name": "python3"
  },
  "language_info": {
   "codemirror_mode": {
    "name": "ipython",
    "version": 3
   },
   "file_extension": ".py",
   "mimetype": "text/x-python",
   "name": "python",
   "nbconvert_exporter": "python",
   "pygments_lexer": "ipython3",
   "version": "3.8.5"
  }
 },
 "nbformat": 4,
 "nbformat_minor": 4
}
