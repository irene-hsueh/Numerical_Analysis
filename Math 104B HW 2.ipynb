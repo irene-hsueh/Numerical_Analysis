{
 "cells": [
  {
   "cell_type": "markdown",
   "metadata": {},
   "source": [
    "# Problem 1"
   ]
  },
  {
   "cell_type": "code",
   "execution_count": 1,
   "metadata": {},
   "outputs": [],
   "source": [
    "# package\n",
    "import numpy as np\n",
    "\n",
    "f = np.exp  # let f(x)=e^x\n",
    "x0 = 1/2"
   ]
  },
  {
   "cell_type": "markdown",
   "metadata": {},
   "source": [
    "**(a)**"
   ]
  },
  {
   "cell_type": "markdown",
   "metadata": {},
   "source": [
    "**compute the centered difference approximation**"
   ]
  },
  {
   "cell_type": "code",
   "execution_count": 2,
   "metadata": {},
   "outputs": [
    {
     "name": "stdout",
     "output_type": "stream",
     "text": [
      "h               |D0h             \n",
      "_ _ _ _ _ _ _ _ _ _ _ _ _ _ _ _ _ _ \n",
      "0.1             |1.6514705137461927\n",
      "0.05            |1.6494083237722634\n",
      "0.025           |1.6488930178661709\n",
      "0.0125          |1.6487642064853247\n",
      "0.00625         |1.6487320045835219\n",
      "0.003125        |1.6487239541670817\n",
      "0.0015625       |1.6487219415666488\n",
      "0.00078125      |1.6487214384167714\n",
      "0.000390625     |1.6487213126293909\n",
      "0.000195313     |1.6487212811824747\n",
      "9.76563e-05     |1.6487212733215983\n"
     ]
    }
   ],
   "source": [
    "h = 0.1/2**np.arange(11)\n",
    "D0h = (f(x0+h)-f(x0-h))/(2*h)\n",
    "\n",
    "print('{:<16s}|{:<16s}'.format('h', 'D0h'))\n",
    "print('_ '*18)\n",
    "for i in range(len(h)):\n",
    "    print('{:<16g}|{:.16f}'.format(h[i], D0h[i]))"
   ]
  },
  {
   "cell_type": "markdown",
   "metadata": {},
   "source": [
    "**verify its quadratic rate of convergence**"
   ]
  },
  {
   "cell_type": "code",
   "execution_count": 3,
   "metadata": {},
   "outputs": [
    {
     "name": "stdout",
     "output_type": "stream",
     "text": [
      "rate = 2.00002\n"
     ]
    }
   ],
   "source": [
    "error = np.abs(np.exp(x0) - D0h)  # absolute error\n",
    "rate = np.mean(np.log(error[1:]/error[:-1])/np.log(h[1:]/h[:-1]))\n",
    "print('rate = %g'%rate)"
   ]
  },
  {
   "cell_type": "markdown",
   "metadata": {},
   "source": [
    "The approximation has quadratic rate of convergence."
   ]
  },
  {
   "cell_type": "markdown",
   "metadata": {},
   "source": [
    "**(b)**"
   ]
  },
  {
   "cell_type": "markdown",
   "metadata": {},
   "source": [
    "The approximate optimal value is\n",
    "$$\n",
    "h_0=eps^{1/3}=2^{-52/3}\\approx 6\\times 10^{-6}\n",
    "$$\n"
   ]
  },
  {
   "cell_type": "code",
   "execution_count": 4,
   "metadata": {},
   "outputs": [
    {
     "name": "stdout",
     "output_type": "stream",
     "text": [
      "h     |error \n",
      "_ _ _ _ _ _ _ _ _ _ _ _ \n",
      "0.006 |-9.89235e-06\n",
      "0.0006|-9.89234e-08\n",
      "6e-05 |-9.87083e-10\n",
      "6e-06 |6.56697e-12\n",
      "6e-07 |-1.04456e-10\n",
      "6e-08 |8.05815e-11\n",
      "6e-09 |8.05818e-11\n"
     ]
    }
   ],
   "source": [
    "# verify numerically\n",
    "h = 6/(10**np.arange(3,10))\n",
    "D0h = (f(x0+h)-f(x0-h))/(2*h)\n",
    "\n",
    "# compute the error\n",
    "error = np.exp(x0)-D0h\n",
    "\n",
    "print('{:<6s}|{:<6s}'.format('h','error'))\n",
    "print('_ '*12)\n",
    "for i in range(len(h)):\n",
    "    print('{:<6g}|{:<6g}'.format(h[i], error[i]))"
   ]
  },
  {
   "cell_type": "markdown",
   "metadata": {},
   "source": [
    "The numerical results are in good agreement with the theory."
   ]
  },
  {
   "cell_type": "markdown",
   "metadata": {},
   "source": [
    "**(c)** "
   ]
  },
  {
   "cell_type": "markdown",
   "metadata": {},
   "source": [
    "**construct a fourth order approximation to $f'(1/2)$ by applying Richardson extrapolation to $D^0_h f(1/2)$**"
   ]
  },
  {
   "cell_type": "markdown",
   "metadata": {},
   "source": [
    "Applying Richardson extrapolation gives\n",
    "$$\n",
    "\\begin{aligned}\n",
    "D_h^0f(x_0)&=f'(x_0)+c_2h^2+c_4h^4+\\cdots \\\\\n",
    "D_{h/2}^0f(x_0)&=f'(x_0)+\\frac{1}{4}c_2h^2+\\frac{1}{16}c_4h^4+\\cdots\n",
    "\\end{aligned}\n",
    "$$\n",
    "It implies\n",
    "$$\n",
    "\\frac{4D_{h/2}^0f(x_0)-D_{h}^0f(x_0)}{3}=f'(x_0)-\\frac{1}{4}c_4h^4+\\cdots\n",
    "$$\n",
    "Then a fourth order approximation to $f'(1/2)$ is\n",
    "$$\n",
    "D^{ext}_{h}f(x_0)=\\frac{4D_{h/2}^0f(x_0)-D_{h}^0f(x_0)}{3}=\\frac{-f(x_0+h)+8f(x_0+h/2)-8f(x_0-h/2)+f(x_0-h)}{6h}\n",
    "$$\n",
    "\n"
   ]
  },
  {
   "cell_type": "markdown",
   "metadata": {},
   "source": [
    "**compute a fourth order approximation**"
   ]
  },
  {
   "cell_type": "code",
   "execution_count": 5,
   "metadata": {},
   "outputs": [
    {
     "name": "stdout",
     "output_type": "stream",
     "text": [
      "h               |Dh              \n",
      "_ _ _ _ _ _ _ _ _ _ _ _ _ _ _ _ _ _ \n",
      "0.1             |1.6487209271142864\n",
      "0.05            |1.6487212492308043\n",
      "0.025           |1.6487212693583788\n",
      "0.0125          |1.6487212706162599\n",
      "0.00625         |1.6487212706949230\n"
     ]
    }
   ],
   "source": [
    "h = 0.1/2**np.arange(5)\n",
    "Dh = (-f(x0+h)+8*f(x0+h/2)-8*f(x0-h/2)+f(x0-h))/(6*h)\n",
    "\n",
    "print('{:<16s}|{:<16s}'.format('h', 'Dh'))\n",
    "print('_ '*18)\n",
    "for i in range(len(h)):\n",
    "    print('{:<16g}|{:.16f}'.format(h[i], Dh[i]))"
   ]
  },
  {
   "cell_type": "markdown",
   "metadata": {},
   "source": [
    "**verify its rate of convergence**"
   ]
  },
  {
   "cell_type": "code",
   "execution_count": 6,
   "metadata": {},
   "outputs": [
    {
     "name": "stdout",
     "output_type": "stream",
     "text": [
      "rate = 4.00259\n"
     ]
    }
   ],
   "source": [
    "error = np.abs(np.exp(x0) - Dh)  # absolute error\n",
    "rate = np.mean(np.log(error[1:]/error[:-1])/np.log(h[1:]/h[:-1]))\n",
    "print('rate = %g'%rate)"
   ]
  },
  {
   "cell_type": "markdown",
   "metadata": {},
   "source": [
    "The approximation has rate of convergence $4$."
   ]
  },
  {
   "cell_type": "markdown",
   "metadata": {},
   "source": [
    "**optimal value**"
   ]
  },
  {
   "cell_type": "markdown",
   "metadata": {},
   "source": [
    "The approximate optimal value is\n",
    "$$\n",
    "h_0=eps^{1/5}=2^{-52/5}\\approx 7\\times 10^{-4}\n",
    "$$"
   ]
  },
  {
   "cell_type": "code",
   "execution_count": 7,
   "metadata": {},
   "outputs": [
    {
     "name": "stdout",
     "output_type": "stream",
     "text": [
      "h     |error \n",
      "_ _ _ _ _ _ _ _ _ _ _ _ \n",
      "0.07  |8.24824e-08\n",
      "0.007 |8.23763e-12\n",
      "0.0007|-9.4591e-14\n",
      "7e-05 |-2.94942e-12\n"
     ]
    }
   ],
   "source": [
    "# verify numerically\n",
    "h = 7/(10**np.arange(2,6))\n",
    "Dh = (-f(x0+h)+8*f(x0+h/2)-8*f(x0-h/2)+f(x0-h))/(6*h)\n",
    "\n",
    "# compute the error\n",
    "error = np.exp(x0)-Dh\n",
    "\n",
    "print('{:<6s}|{:<6s}'.format('h','error'))\n",
    "print('_ '*12)\n",
    "for i in range(len(h)):\n",
    "    print('{:<6g}|{:<6g}'.format(h[i], error[i]))"
   ]
  },
  {
   "cell_type": "markdown",
   "metadata": {},
   "source": [
    "The numerical results are in good agreement with the theory."
   ]
  },
  {
   "cell_type": "markdown",
   "metadata": {},
   "source": [
    "# Problem 2"
   ]
  },
  {
   "cell_type": "markdown",
   "metadata": {},
   "source": [
    "The Taylor series expansions of $f(x_0+h)$ gives\n",
    "$$\n",
    "f(x_0+h)=f(x_0)+hf'(x_0)+\\frac{h^2}{2}f''(x_0)+\\frac{h^3}{6}f'''(x_0)+\\cdots\n",
    "$$\n",
    "And the Taylor series expansions of $f(x_0+2h)$ gives\n",
    "$$\n",
    "f(x_0+2h)=f(x_0)+2hf'(x_0)+2h^2f''(x_0)+\\frac{4h^3}{3}f'''(x_0)+\\cdots\n",
    "$$\n",
    "\n",
    "The sided difference approximation to $f'(x_0)$ gives\n",
    "$$\n",
    "\\begin{aligned}\n",
    "D_hf(x_0)=&\\frac{-f(x_0+2h)+4f(x_0+h)-3f(x_0)}{2h}\\\\\n",
    "=&f'(x_0)+\\frac{-\\frac{4}{3}+4\\frac{1}{6}}{2}h^2f'''(x_0)+\\cdots\\\\\n",
    "=&f'(x_0)-\\frac{1}{3}h^2f'''(x_0)+\\cdots\n",
    "\\end{aligned}\n",
    "$$\n",
    "Thus the error term is $f'(x_0)-D_hf(x_0)=\\frac{1}{3}h^2f'''(\\xi_0)$.\n",
    "\n"
   ]
  },
  {
   "cell_type": "markdown",
   "metadata": {},
   "source": [
    "# Problem 3"
   ]
  },
  {
   "cell_type": "markdown",
   "metadata": {},
   "source": [
    "**(a)**\n",
    "$$\n",
    "\\begin{aligned}\n",
    "& \\log \\left|l_j(x)\\right|=-\\log\\left|\\alpha_j\\right|+\\sum^{n}_{k=0,k\\ne j}\\log\\left|x-x_k\\right| \\\\\n",
    "\\Rightarrow & (\\log \\left|l_j(x)\\right|)'=\\left(\\sum^{n}_{k=0,k\\ne j}\\log\\left|x-x_k\\right|\\right)'\\\\\n",
    "\\Rightarrow & \\frac{l'_j(x)}{l_j(x)}=\\sum^{n}_{k=0,k\\ne j}\\frac{1}{x-x_k} \\\\\n",
    "\\Rightarrow & l'_j(x)=l_j(x)\\sum^{n}_{k=0,k\\ne j}\\frac{1}{x-x_k}\n",
    "\\end{aligned}\n",
    "$$\n",
    "**(b)**\n",
    "$$\n",
    "\\begin{aligned}\n",
    "(D_n)_{ii}=&\\lim_{x\\to x_i}\\left(l_i(x)\\sum^{n}_{k=0,k\\ne i}\\frac{1}{x-x_k}\\right)\\\\\n",
    "=&\\frac{1}{\\alpha_i}\\prod^{n}_{k=0,k\\ne i}(x_i-x_k)\\sum^{n}_{k=0,k\\ne i}\\frac{1}{x_i-x_k}\\\\\n",
    "=&\\frac{\\alpha_i}{\\alpha_i}\\sum^{n}_{k=0,k\\ne i}\\frac{1}{x_i-x_k}\\\\\n",
    "=&\\sum^{n}_{k=0,k\\ne i}\\frac{1}{x_i-x_k}\n",
    "\\end{aligned}\n",
    "$$\n",
    "\n",
    "$$\n",
    "\\begin{aligned}\n",
    "(D_n)_{ij}&=\\lim_{x\\to x_i}\\left(l_j(x)\\sum^{n}_{k=0,k\\ne j}\\frac{1}{x-x_k}\\right)\\\\\n",
    "&=\\lim_{x\\to x_i}\\left(\\frac{1}{\\alpha_j}\\prod^{n}_{k=0,k\\ne j}(x-x_k)\\sum^{n}_{k=0,k\\ne j}\\frac{1}{x-x_k}\\right)\\\\\n",
    "&=\\frac{1}{\\alpha_j}\\prod^{n}_{k=0,k\\ne i,k\\ne j}(x_i-x_k)\\\\\n",
    "&=\\frac{\\alpha_i}{\\alpha_j}\\left(\\frac{1}{x_i-x_j}\\right)\n",
    "\\end{aligned}\n",
    "\\qquad \\text{for $i\\ne j$}\n",
    "$$\n",
    "\n",
    "**(c)**\n",
    "\n",
    "Note $\\sum^n_{j=0}l_j(x)=1$ for all $x$. Then \n",
    "$$\n",
    "\\sum^n_{j=0}(D_n)_{ij}=\\sum^n_{j=0}l'_j(x_i)=\\left(\\sum^n_{j=0}l_j(x)\\right)'\\big|_{x=x_i}=0\n",
    "$$\n",
    "for all $i=0,1,2,\\dots,n$.\n",
    "\n",
    "**(d)**\n",
    "\n",
    "Apply $\\alpha_j=\\prod^{n}_{k=0,k\\ne j}(x_j-x_k)$, with $x_0=-1,x_1=0,x_2=1$, we get\n",
    "$$\n",
    "\\alpha_0=2, \\; \\alpha_1=-1, \\; \\alpha_2=2\n",
    "$$\n",
    "\n",
    "Apply $(D_n)_{ij}=\\frac{\\alpha_i}{\\alpha_j}\\left(\\frac{1}{x_i-x_j}\\right)$ for $i\\ne j$ and $(D_n)_{ii}=\\sum^{n}_{k=0,k\\ne i}\\frac{1}{x_i-x_k}$, we get\n",
    "$$\n",
    "D_2=\\begin{bmatrix}-\\frac{3}{2}&2&-\\frac{1}{2}\\\\\n",
    "-\\frac{1}{2}&0&\\frac{1}{2}\\\\\n",
    "\\frac{1}{2}&-2&\\frac{3}{2}\n",
    "\\end{bmatrix}\n",
    "$$\n",
    "\n"
   ]
  }
 ],
 "metadata": {
  "kernelspec": {
   "display_name": "Python 3",
   "language": "python",
   "name": "python3"
  },
  "language_info": {
   "codemirror_mode": {
    "name": "ipython",
    "version": 3
   },
   "file_extension": ".py",
   "mimetype": "text/x-python",
   "name": "python",
   "nbconvert_exporter": "python",
   "pygments_lexer": "ipython3",
   "version": "3.8.5"
  }
 },
 "nbformat": 4,
 "nbformat_minor": 4
}
