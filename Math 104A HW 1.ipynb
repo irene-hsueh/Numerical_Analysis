{
 "cells": [
  {
   "cell_type": "code",
   "execution_count": 1,
   "metadata": {},
   "outputs": [],
   "source": [
    "# load packages\n",
    "\n",
    "import numpy as np"
   ]
  },
  {
   "cell_type": "markdown",
   "metadata": {},
   "source": [
    "# Problem 1"
   ]
  },
  {
   "cell_type": "code",
   "execution_count": 2,
   "metadata": {},
   "outputs": [],
   "source": [
    "# implement the Composite Trapezoidal Rule quadrature\n",
    "\n",
    "def trapz(f, a, b, h):\n",
    "    \"\"\"\n",
    "    the Composite Trapezoidal Rule quadrature in Python to approximate\n",
    "    the definite integral I[f] = \\int^{b}_{a}f(x)dx\n",
    "    \n",
    "    Args:\n",
    "        f: Integrand, numpy.ufunc in python\n",
    "        a: lower limit of integral\n",
    "        b: upper limit of integral\n",
    "        h: stepsize\n",
    "    \n",
    "    Ret:\n",
    "        approximation of the definite integral\n",
    "    \"\"\"\n",
    "    N = int((b-a)/h)\n",
    "    x = np.linspace(a,b,N+1)\n",
    "    T = h*(f(x[0])/2+sum(f(x[1:N]))+f(x[N])/2)\n",
    "    return T"
   ]
  },
  {
   "cell_type": "markdown",
   "metadata": {},
   "source": [
    "1. Find a value of $h$ such that $q(h)$ is approximately equal to $4$."
   ]
  },
  {
   "cell_type": "code",
   "execution_count": 3,
   "metadata": {},
   "outputs": [
    {
     "name": "stdout",
     "output_type": "stream",
     "text": [
      "q(h)=3.9999993155917886\n"
     ]
    }
   ],
   "source": [
    "# define the test definite integral\n",
    "f = lambda x: np.exp(-x**2)\n",
    "a, b = 0, np.sqrt(np.pi/2)\n",
    "\n",
    "h = np.sqrt(np.pi/2)/200\n",
    "# compute T_{h}, T_{h/2}, T_{h/4}\n",
    "Th = [trapz(f, a, b, h), trapz(f, a, b, h/2), trapz(f, a, b, h/4)]\n",
    "\n",
    "# compute q(h)\n",
    "q = (Th[1]-Th[0])/(Th[2]-Th[1])\n",
    "print(\"q(h)=%s\"%(q))"
   ]
  },
  {
   "cell_type": "markdown",
   "metadata": {},
   "source": [
    "2. Get an approximation of the error for that particular value of $h$."
   ]
  },
  {
   "cell_type": "markdown",
   "metadata": {},
   "source": [
    "Since $q(h)=4$, the error $E$ is\n",
    "$$\n",
    "E=I[\\sin(x^2+1)]-T_{h}[\\sin(x^2+1)]=ah^2\n",
    "$$\n",
    "for constant $a$. Then\n",
    "$$\n",
    "E=I[\\sin(x^2+1)]-T_{h}[\\sin(x^2+1)] \\ \\text{and} \\ \\frac{1}{4}E=I[\\sin(x^2+1)]-T_{h/2}[\\sin(x^2+1)]\n",
    "$$\n",
    "Thus,\n",
    "$$\n",
    "E=\\frac{4}{3}(T_{h/2}[\\sin(x^2+1)]-T_{h}[\\sin(x^2+1)])\n",
    "$$\n"
   ]
  },
  {
   "cell_type": "code",
   "execution_count": 4,
   "metadata": {},
   "outputs": [
    {
     "name": "stdout",
     "output_type": "stream",
     "text": [
      "error 1.705219523066385e-06\n"
     ]
    }
   ],
   "source": [
    "# compute the error approximation\n",
    "E = 4/3*(Th[1]-Th[0])\n",
    "print('error', E)"
   ]
  },
  {
   "cell_type": "markdown",
   "metadata": {},
   "source": [
    "3. Obtain the extrapolated, improved, approximation."
   ]
  },
  {
   "cell_type": "code",
   "execution_count": 5,
   "metadata": {},
   "outputs": [
    {
     "name": "stdout",
     "output_type": "stream",
     "text": [
      "S_h 0.818590751653491\n"
     ]
    }
   ],
   "source": [
    "Sh = Th[0]+4/3*(Th[1]-Th[0])\n",
    "print('S_h',Sh)"
   ]
  },
  {
   "cell_type": "markdown",
   "metadata": {},
   "source": [
    "4. Explain."
   ]
  },
  {
   "cell_type": "markdown",
   "metadata": {},
   "source": [
    "We see that\n",
    "$$\n",
    "\\begin{aligned}\n",
    "&I[\\sin(x^2+1)]=T_{h}[\\sin(x^2+1)]+ah^2+O(h^3)\\\\\n",
    "&I[\\sin(x^2+1)]=T_{h/2}[\\sin(x^2+1)]+\\frac{1}{4}ah^2+O(h^3)\n",
    "\\end{aligned}\n",
    "$$\n",
    "Then\n",
    "$$\n",
    "\\begin{aligned}\n",
    "&4I[\\sin(x^2+1)]-I[\\sin(x^2+1)]=4T_{h/2}[\\sin(x^2+1)]-T_{h}[\\sin(x^2+1)]+O(h^3)\\\\\n",
    "\\Leftrightarrow&I[\\sin(x^2+1)]=\\frac{4}{3}T_{h/2}[\\sin(x^2+1)]-\\frac{1}{3}T_{h}[\\sin(x^2+1)]+O(h^3)\\\\\n",
    "\\Leftrightarrow&I[\\sin(x^2+1)]=T_{h}[\\sin(x^2+1)]+\\frac{4}{3}(T_{h/2}[\\sin(x^2+1)]-T_{h}[\\sin(x^2+1)])+O(h^3)\\\\\n",
    "\\Leftrightarrow&I[\\sin(x^2+1)]=S_{h}[\\sin(x^2+1)]+O(h^3)\\\\\n",
    "\\end{aligned}\n",
    "$$\n",
    "$S_{h}[\\sin(x^2+1)]$ is of $3$rd order convergence trend, but $T_{h}[\\sin(x^2+1)]$ is of $2$rd order. So $S_{h}[\\sin(x^2+1)]$ is more accurate and converges faster to $I[\\sin(x^2+1)]$ than $T_{h}[\\sin(x^2+1)]$."
   ]
  },
  {
   "cell_type": "markdown",
   "metadata": {},
   "source": [
    "# Problem 2"
   ]
  },
  {
   "cell_type": "code",
   "execution_count": 6,
   "metadata": {},
   "outputs": [],
   "source": [
    "# implement the Composite Simpson's Rule\n",
    "\n",
    "def simps(f, a, b, h):\n",
    "    \"\"\"\n",
    "    the Composite Simpson's Rule in Python to approximate the definite\n",
    "    integral I[f] = \\int^{b}_{a}f(x)dx\n",
    "    \n",
    "    Args:\n",
    "        f: Integrand, numpy.ufunc in python\n",
    "        a: lower limit of integral\n",
    "        b: upper limit of integral\n",
    "        h: stepsize\n",
    "    \n",
    "    Ret:\n",
    "        approximation of the definite integral\n",
    "    \"\"\"\n",
    "    N = int((b-a)/h)\n",
    "    x = np.linspace(a,b,N+1)\n",
    "    S = h/6*(f(x[0])+4*sum(f(x[1:]-h/2))+2*sum(f(x[1:N]))+f(x[N]))\n",
    "    return S"
   ]
  },
  {
   "cell_type": "markdown",
   "metadata": {},
   "source": [
    "- Test our code with $f(x)=\\frac{x}{1+x^2}$ in $[0,1]$ by computing the error $|I[f]-S_h[f]|$ for $h=1/10,1/20,1/40,1/80$."
   ]
  },
  {
   "cell_type": "markdown",
   "metadata": {},
   "source": [
    "Computing the definite integral gives\n",
    "$$\n",
    "\\int^{1}_{0}\\frac{x}{1+x^2}dx=\\frac{1}{2}(\\ln(1+1^2)-\\ln(1+0^2))=\\frac{1}{2}\\ln{2}\n",
    "$$"
   ]
  },
  {
   "cell_type": "code",
   "execution_count": 7,
   "metadata": {},
   "outputs": [
    {
     "name": "stdout",
     "output_type": "stream",
     "text": [
      "h [0.1    0.05   0.025  0.0125]\n",
      "Sh [0.34657385 0.34657361 0.34657359 0.34657359]\n",
      "error [2.61669822e-07 1.62954683e-08 1.01755565e-09 6.35830832e-11]\n",
      "order 4.002272318407938\n"
     ]
    }
   ],
   "source": [
    "# define the test definite integral\n",
    "f = lambda x: x/(1+x**2)\n",
    "a, b = 0, 1\n",
    "\n",
    "h = np.array([1/10,1/20,1/40,1/80])\n",
    "Sh = np.zeros(len(h))\n",
    "err = np.zeros(len(h))\n",
    "\n",
    "# compute the approximation for different h\n",
    "for i in range(len(h)):\n",
    "    Sh[i] = simps(f, a, b, h[i])\n",
    "    err[i] = abs(Sh[i]-np.log(2)/2)\n",
    "\n",
    "print('h', h)\n",
    "print('Sh', Sh)\n",
    "print('error', err)\n",
    "\n",
    "# compute the order\n",
    "order = np.mean(np.log(err[1:]/err[:-1])/np.log(h[1:]/h[:-1]))\n",
    "print('order', order)"
   ]
  },
  {
   "cell_type": "markdown",
   "metadata": {},
   "source": [
    "We see that $|I[f]-S_{h}[f]|$ decreases as $h$ decreases, so $S_{h}$ has a convergent trend. And the convergence is of $4$th order by numerical experiments."
   ]
  },
  {
   "cell_type": "markdown",
   "metadata": {},
   "source": [
    "- Let $f(x)=\\sqrt{x}$ in $[0,1]$. Do similar analysis."
   ]
  },
  {
   "cell_type": "markdown",
   "metadata": {},
   "source": [
    "Computing the definite integral gives\n",
    "$$\n",
    "\\int^{1}_{0}\\sqrt{x}dx=\\frac{2}{3}\n",
    "$$"
   ]
  },
  {
   "cell_type": "code",
   "execution_count": 8,
   "metadata": {},
   "outputs": [
    {
     "name": "stdout",
     "output_type": "stream",
     "text": [
      "h [0.0625     0.03125    0.015625   0.0078125  0.00390625]\n",
      "Sh [0.66621818 0.6665081  0.66661061 0.66664685 0.66665966]\n",
      "error [4.48483920e-04 1.58563588e-04 5.60607304e-05 1.98204636e-05\n",
      " 7.00759224e-06]\n",
      "order 1.4999984053676017\n"
     ]
    }
   ],
   "source": [
    "# define the test definite integral\n",
    "f = lambda x: np.sqrt(x)\n",
    "a, b = 0, 1\n",
    "\n",
    "h = 1/2**np.arange(4,9)\n",
    "Sh = np.zeros(len(h))\n",
    "err = np.zeros(len(h))\n",
    "\n",
    "# compute the approximation for different h\n",
    "for i in range(len(h)):\n",
    "    Sh[i] = simps(f, a, b, h[i])\n",
    "    err[i] = abs(Sh[i]-2/3)\n",
    "\n",
    "print('h', h)\n",
    "print('Sh', Sh)\n",
    "print('error', err)\n",
    "\n",
    "# compute the order\n",
    "order = np.mean(np.log(err[1:]/err[:-1])/np.log(h[1:]/h[:-1]))\n",
    "print('order', order)"
   ]
  },
  {
   "cell_type": "markdown",
   "metadata": {},
   "source": [
    "We see $\\frac{3}{2}$th order of convergence to the exact value of integral. This is because when $x$ is close to $0$, the derivative of $\\sqrt{x}$ is $1/\\sqrt{x}$ close to infinity. For this case, the convergence order of composite quadrature is approximately $O(h^{1+1}/\\sqrt{h})=O(h^{3/2})$."
   ]
  },
  {
   "cell_type": "markdown",
   "metadata": {},
   "source": [
    "# Problem 3"
   ]
  },
  {
   "cell_type": "markdown",
   "metadata": {},
   "source": [
    "- \n",
    "\n",
    "Let $f(x)=e^{x}-1$.Then\n",
    "$$\n",
    "f(0)=e^{0}-1=1-1=0\n",
    "$$\n",
    "\n",
    "$$\n",
    "f'(0)=e^{0}=1\\ne 0\n",
    "$$\n",
    "\n",
    "Thus $e^{x}-1=O(x)$ as $x\\to0$.\n",
    "\n",
    "- \n",
    "\n",
    "Consider $f(x)=x^{-2}\\tan{x}$. Then\n",
    "$$\n",
    "\\lim_{x\\to 0}f(x)=\\lim_{x\\to 0}\\frac{\\sin{x}}{x^2\\cos{x}}=\\lim_{x\\to 0}\\frac{x}{x^2}=\\lim_{x\\to 0}\\frac{1}{x}\n",
    "$$\n",
    "since $\\cos{0}=1$, $\\sin{0}=0$ and $\\sin'{0}=\\cos{0}=1$. Thus as $x\\to 0$.\n",
    "$$\n",
    "x^{-2}\\tan{x}=O(x)\\Leftrightarrow x^{-2}=O(x\\cot{x})\n",
    "$$\n",
    "\n",
    "- \n",
    "\n",
    "Let $f(x)=\\cot{x}$. Then\n",
    "$$\n",
    "\\lim_{x\\to 0} f(x)=\\lim_{x\\to 0}\\frac{\\cos{x}}{\\sin{x}}=\\lim_{x\\to 0}\\frac{1}{x}\n",
    "$$\n",
    "since $\\cos{0}=1$, $\\sin{0}=0$ and $\\sin'{0}=\\cos{0}=1$. Thus as $x\\to0$,\n",
    "$$\n",
    "\\cot{x}=O(x^{-1})\n",
    "$$"
   ]
  }
 ],
 "metadata": {
  "kernelspec": {
   "display_name": "Python 3",
   "language": "python",
   "name": "python3"
  },
  "language_info": {
   "codemirror_mode": {
    "name": "ipython",
    "version": 3
   },
   "file_extension": ".py",
   "mimetype": "text/x-python",
   "name": "python",
   "nbconvert_exporter": "python",
   "pygments_lexer": "ipython3",
   "version": "3.8.5"
  }
 },
 "nbformat": 4,
 "nbformat_minor": 4
}
