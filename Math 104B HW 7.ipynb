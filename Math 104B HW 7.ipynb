{
 "cells": [
  {
   "cell_type": "code",
   "execution_count": 1,
   "metadata": {},
   "outputs": [],
   "source": [
    "import numpy as np"
   ]
  },
  {
   "cell_type": "markdown",
   "metadata": {},
   "source": [
    "# problem 1"
   ]
  },
  {
   "cell_type": "markdown",
   "metadata": {},
   "source": [
    "In the steepest descent method,\n",
    "$$\n",
    "\\begin{aligned}\n",
    "<v^{(k+1)},v^{(k)}>&=<r^{(k+1)},r^{(k)}>=<r^{(k)}-t_k A r^{(k)},r^{(k)}>=<r^{(k)},r^{(k)}>-t_k<r^{(k)},Ar^{(k)}>\\\\\n",
    "&=<r^{(k)},r^{(k)}>-\\frac{<r^{(k)},r^{(k)}>}{<r^{(k)},A r^{(k)}>}<r^{(k)},A r^{(k)}>=<r^{(k)},r^{(k)}>-<r^{(k)},r^{(k)}>\\\\\n",
    "&=0\n",
    "\\end{aligned}\n",
    "$$\n",
    "Thus the consecutive search directions are orthogonal."
   ]
  },
  {
   "cell_type": "markdown",
   "metadata": {},
   "source": [
    "# problem 2"
   ]
  },
  {
   "cell_type": "markdown",
   "metadata": {},
   "source": [
    "In the conjugate gradient method,\n",
    "$$\n",
    "v^{(k)}=r^{(k)}+s_k v^{(k-1)}\n",
    "$$\n",
    "If $v^{(k)}=0$, then\n",
    "$$\n",
    "\\begin{aligned}\n",
    "& r^{(k)}+s_k v^{(k-1)}=0\\\\\n",
    "\\Rightarrow & <r^{(k)},r^{(k)}>+s_k<r^{(k)}, v^{(k-1)}>=0\\\\\n",
    "\\Rightarrow & <r^{(k)},r^{(k)}>=0\\\\\n",
    "\\Rightarrow & r^{(k)}=0 \\\\\n",
    "\\Rightarrow & b-A x^{(k)}=0 \\\\\n",
    "\\Rightarrow & A x^{(k)}=b\n",
    "\\end{aligned}\n",
    "$$\n"
   ]
  },
  {
   "cell_type": "markdown",
   "metadata": {},
   "source": [
    "# problem 3"
   ]
  },
  {
   "cell_type": "markdown",
   "metadata": {},
   "source": [
    "Implement the conjugate gradient method"
   ]
  },
  {
   "cell_type": "code",
   "execution_count": 2,
   "metadata": {},
   "outputs": [],
   "source": [
    "def cg(A, b, TOL):\n",
    "    \"\"\"\n",
    "    This function solve the equation Ax = b where A is a symmetric\n",
    "    positive definite matrix by the conjugate gradient method.\n",
    "    \n",
    "    Inputs:\n",
    "        A: symmetric positive definite matrix of size n-by-n\n",
    "        b: ordinate of size n\n",
    "        TOL: tolerance\n",
    "\n",
    "    Output:\n",
    "        x: solution of the equation\n",
    "        k: number of iterations\n",
    "        error: error in 2-norm\n",
    "    \"\"\"\n",
    "    x = np.zeros_like(b, dtype='double')\n",
    "    r = b - A.dot(x)\n",
    "    v = r\n",
    "    k = 0\n",
    "    \n",
    "    d = r.dot(r)\n",
    "    \n",
    "    while np.sqrt(d) > TOL:\n",
    "        t = d/v.dot(A.dot(v))\n",
    "        x = x + t*v\n",
    "        r = r - t*A.dot(v)\n",
    "        dp = r.dot(r)\n",
    "        v = r + dp/d*v\n",
    "        d = dp\n",
    "        k = k + 1\n",
    "    \n",
    "    error = np.linalg.norm(b-A.dot(x), 2)\n",
    "    \n",
    "    return x, k, error"
   ]
  },
  {
   "cell_type": "markdown",
   "metadata": {},
   "source": [
    "Solve the system for $N = 50$, $N = 100$ and $N = 200$, check convergence and comment on the required number of iterations."
   ]
  },
  {
   "cell_type": "code",
   "execution_count": 3,
   "metadata": {},
   "outputs": [
    {
     "name": "stdout",
     "output_type": "stream",
     "text": [
      "At N = 50, #iterations = 1, error = 4.1640892186447175e-12\n",
      "At N = 100, #iterations = 1, error = 2.983227862114191e-11\n",
      "At N = 200, #iterations = 1, error = 1.1783425929129354e-10\n"
     ]
    }
   ],
   "source": [
    "TOL = 1E-9  # tolerance\n",
    "\n",
    "for N in (50, 100, 200):\n",
    "    h = 1/N  # grid size\n",
    "    x = h*np.arange(N+1)\n",
    "        \n",
    "    # the linear system\n",
    "    A = np.diag(-np.ones(N-2)/h**2, -1)+ np.diag(np.ones(N-1)*(2/h**2+np.pi**2)) \\\n",
    "        + np.diag(-np.ones(N-2)/h**2, 1)\n",
    "    b = 2*np.pi**2*np.sin(np.pi*x[1:N])\n",
    "    \n",
    "    # solve the system\n",
    "    v = np.zeros(N+1)\n",
    "    v[1:N], k, error = cg(A, b, TOL)\n",
    "    \n",
    "    print('At N = {}, #iterations = {}, error = {}'.format(N, k, error))"
   ]
  },
  {
   "cell_type": "markdown",
   "metadata": {},
   "source": [
    "For symmetric positive definite matrix $A$, the results quickly converge to the solution with $TOL$ in the conjugate gradient method. Despite the round-off error, the required number of iterations is at most $N$."
   ]
  },
  {
   "cell_type": "markdown",
   "metadata": {},
   "source": [
    " Compare with the performance of Jacobi's method."
   ]
  },
  {
   "cell_type": "code",
   "execution_count": 4,
   "metadata": {},
   "outputs": [
    {
     "name": "stdout",
     "output_type": "stream",
     "text": [
      "At N = 50, #iterations = 6414, error = 9.975836782478501e-10\n",
      "At N = 100, #iterations = 26023, error = 9.97369162961708e-10\n",
      "At N = 200, #iterations = 105228, error = 9.972676494670398e-10\n"
     ]
    }
   ],
   "source": [
    "# implement the jacobi method.\n",
    "def jacobi(A, b, TOL):\n",
    "    \"\"\"\n",
    "    This function solve the equation Ax = b by the jacobi's method.\n",
    "    \n",
    "    Inputs:\n",
    "        A: symmetric positive definite matrix of size n-by-n\n",
    "        b: ordinate of size n\n",
    "        TOL: tolerance\n",
    "\n",
    "    Output:\n",
    "        x: solution of the equation\n",
    "        k: number of iterations\n",
    "        error: error in 2-norm\n",
    "    \"\"\"   \n",
    "    D = np.diag(A.diagonal())\n",
    "    Dinv = np.linalg.inv(D)\n",
    "    \n",
    "    # iterative matrix\n",
    "    T = -Dinv.dot(A-D)\n",
    "    c = Dinv.dot(b)\n",
    "    \n",
    "    x = np.zeros_like(b, dtype='double')\n",
    "    k = 0\n",
    "    error = np.linalg.norm(b-A.dot(x), 2) \n",
    "    \n",
    "    while error > TOL:\n",
    "        x = T.dot(x)+c\n",
    "        k = k + 1\n",
    "        error = np.linalg.norm(b-A.dot(x), 2) \n",
    "        \n",
    "    return x, k, error\n",
    "\n",
    "TOL = 1E-9  # tolerance\n",
    "\n",
    "for N in (50, 100, 200):\n",
    "    h = 1/N  # grid size\n",
    "    x = h*np.arange(N+1)\n",
    "        \n",
    "    # the linear system\n",
    "    A = np.diag(-np.ones(N-2)/h**2, -1)+ np.diag(np.ones(N-1)*(2/h**2+np.pi**2)) \\\n",
    "        + np.diag(-np.ones(N-2)/h**2, 1)\n",
    "    b = 2*np.pi**2*np.sin(np.pi*x[1:N])\n",
    "    \n",
    "    # solve the system\n",
    "    v = np.zeros(N+1)\n",
    "    v[1:N], k, error = jacobi(A, b, TOL)\n",
    "    \n",
    "    print('At N = {}, #iterations = {}, error = {}'.format(N, k, error))"
   ]
  },
  {
   "cell_type": "markdown",
   "metadata": {},
   "source": [
    "We see the required number of iterations of Jacobi's is large and increases rapidly as $N$ increases. But the Jacobi method can solve systems that are not positive definite. \n",
    "\n"
   ]
  }
 ],
 "metadata": {
  "kernelspec": {
   "display_name": "Python 3",
   "language": "python",
   "name": "python3"
  },
  "language_info": {
   "codemirror_mode": {
    "name": "ipython",
    "version": 3
   },
   "file_extension": ".py",
   "mimetype": "text/x-python",
   "name": "python",
   "nbconvert_exporter": "python",
   "pygments_lexer": "ipython3",
   "version": "3.8.5"
  }
 },
 "nbformat": 4,
 "nbformat_minor": 4
}
