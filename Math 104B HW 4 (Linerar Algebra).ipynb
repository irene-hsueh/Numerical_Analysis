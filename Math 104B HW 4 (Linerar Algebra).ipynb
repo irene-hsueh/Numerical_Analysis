{
 "cells": [
  {
   "cell_type": "markdown",
   "metadata": {},
   "source": [
    "# Question 1"
   ]
  },
  {
   "cell_type": "markdown",
   "metadata": {},
   "source": [
    "Note\n",
    "$$\n",
    "\\det(A_1)=\\alpha>0\n",
    "$$\n",
    "\n",
    "$$\n",
    "\\det(A_2)=\\left|\\begin{matrix}\\alpha&1\\\\1&2\\end{matrix}\\right|=2\\alpha-1>0\\Rightarrow \\alpha>1/2\n",
    "$$\n",
    "\n",
    "and\n",
    "$$\n",
    "\\det(A_3)=\\left|\\begin{matrix}\\alpha&1&-1\\\\1&2&1\\\\-1&1&4\\end{matrix}\\right|=-(1+2)-(\\alpha+1)+4(2\\alpha-1)=7\\alpha-8>0\\Rightarrow \\alpha>8/7\n",
    "$$\n",
    "Thus if $\\alpha>8/7$, then $A$ is positive definite.\n",
    "\n"
   ]
  },
  {
   "cell_type": "markdown",
   "metadata": {},
   "source": [
    "# Question 2"
   ]
  },
  {
   "cell_type": "markdown",
   "metadata": {},
   "source": [
    "By the definition of $\\|\\cdot\\|_{\\infty}$, we get\n",
    "$$\n",
    "\\begin{aligned}\n",
    "\\|A+B\\|_{\\infty}=&\\max_{x\\ne 0}\\frac{\\|(A+B)x\\|_{\\infty}}{\\|x\\|_{\\infty}}=\\max_{x\\ne 0}\\frac{\\|Ax+Bx\\|_{\\infty}}{\\|x\\|_{\\infty}}\\\\\n",
    "=&\\max_{x\\ne 0}\\frac{\\max_{i}|(Ax)_i+(Bx)_i|}{\\|x\\|_{\\infty}}\\\\\n",
    "\\le&\\max_{x\\ne 0}\\frac{\\max_{i}\\{|(Ax)_i|+|(Bx)_i|\\}}{\\|x\\|_{\\infty}} \\\\\n",
    "\\le&\\max_{x\\ne 0}\\frac{\\max_{i}|(Ax)_i|+\\max_{i}|(Bx)_i|}{\\|x\\|_{\\infty}} \\\\\n",
    "=&\\max_{x\\ne 0}\\frac{\\|Ax\\|_{\\infty}+\\|Bx\\|_{\\infty}}{\\|x\\|_{\\infty}}\\\\\n",
    "\\le&\\max_{x\\ne 0}\\frac{\\|Ax\\|_{\\infty}}{\\|x\\|_{\\infty}}+\\max_{x\\ne 0}\\frac{\\|Bx\\|_{\\infty}}{\\|x\\|_{\\infty}}\\\\\n",
    "=&\\|A\\|_{\\infty}+\\|B\\|_{\\infty}\n",
    "\\end{aligned}\n",
    "$$\n",
    "Thus\n",
    "$$\n",
    "\\|A+B\\|_{\\infty}\\le\\|A\\|_{\\infty}+\\|B\\|_{\\infty}\n",
    "$$"
   ]
  },
  {
   "cell_type": "markdown",
   "metadata": {},
   "source": [
    "# Question 3"
   ]
  },
  {
   "cell_type": "markdown",
   "metadata": {},
   "source": [
    "$$\n",
    "\\|A\\|_1=\\max_{j}\\sum^{n}_{i=1}|a_{ij}|=\\max\\{2+1+5,1+2+1,10+1+4\\}=15\n",
    "$$\n",
    "\n",
    "$$\n",
    "\\|A\\|_{\\infty}=\\max_{i}\\sum^{n}_{j=1}|a_{ij}|=\\max\\{2+1+10,1+2+1,5+1+4\\}=13\n",
    "$$\n",
    "\n",
    " "
   ]
  },
  {
   "cell_type": "markdown",
   "metadata": {},
   "source": [
    "# Question 4"
   ]
  },
  {
   "cell_type": "markdown",
   "metadata": {},
   "source": [
    "Check $\\|S^{-1}A S\\|$ is a norm.\n",
    "\n",
    "i)\n",
    "\n",
    "By the definition\n",
    "$$\n",
    "\\|S^{-1}A S\\|=\\max_{x\\ne 0}\\frac{\\|S^{-1}A Sx\\|}{\\|x\\|}\n",
    "$$\n",
    "Note for $x\\ne 0$, $\\|S^{-1}A Sx\\|\\ge0$ and $\\|S^{-1}A Sx\\|=0$ iff\n",
    "$$\n",
    "S^{-1}A Sx=0\\Rightarrow S^{-1}A S=0 \\Rightarrow A=0\n",
    "$$\n",
    "Thus we get $\\|S^{-1}A S\\|\\ge 0$ and $\\|S^{-1}A S\\|=0$ iff $A=0$.\n",
    "\n",
    "ii)\n",
    "\n",
    "Let $A,B$ be two arbitrary $n\\times n$ matrices. Then\n",
    "$$\n",
    "\\begin{aligned}\n",
    "\\|S^{-1}(A+B)S\\|=&\\|S^{-1}AS+S^{-1}BS\\|=\\max_{x\\ne 0}\\frac{\\|S^{-1}A Sx+S^{-1}B Sx\\|}{\\|x\\|}\\\\\n",
    "\\le&\\max_{x\\ne 0}\\frac{\\|S^{-1}A Sx\\|+\\|S^{-1}B Sx\\|}{\\|x\\|}\\le\\|S^{-1}AS\\|+\\|S^{-1}BS\\|\n",
    "\\end{aligned}\n",
    "$$\n",
    "iii)\n",
    "\n",
    "Suppose $A$ is a $n\\times n$ matrix, $\\lambda\\in K$ for $K=\\mathbb{R}$ (or $\\mathbb{C}$). We see\n",
    "$$\n",
    "\\|S^{-1}\\lambda AS\\|=\\|\\lambda S^{-1} AS\\|=\\max_{x\\ne 0}\\frac{\\|\\lambda S^{-1}A Sx\\|}{\\|x\\|}=\\max_{x\\ne 0}\\frac{|\\lambda |\\|S^{-1}A Sx\\|}{\\|x\\|}=|\\lambda |\\|S^{-1}AS\\|\n",
    "$$\n",
    "\n",
    "\n",
    "We see $\\|S^{-1}A S\\|$ satisfies the definition of the norm. Thus $\\|S^{-1}A S\\|$ is also a norm."
   ]
  },
  {
   "cell_type": "markdown",
   "metadata": {},
   "source": [
    "# Question 5"
   ]
  },
  {
   "cell_type": "markdown",
   "metadata": {},
   "source": [
    "$$\n",
    "\\|I\\|=\\max_{x\\ne 0}\\frac{\\|Ix\\|}{\\|x\\|}=\\max_{x\\ne 0}\\frac{\\|x\\|}{\\|x\\|}=\\max_{x\\ne 0}1=1\n",
    "$$\n",
    "\n"
   ]
  },
  {
   "cell_type": "markdown",
   "metadata": {},
   "source": [
    "# Question 6"
   ]
  },
  {
   "cell_type": "markdown",
   "metadata": {},
   "source": [
    "Note for a nonsingular matrix $A$, from problem 5 and theorem 9.3, we get\n",
    "$$\n",
    "1=\\|I\\|=\\|AA^{-1}\\|\\le\\|A\\|\\|A^{-1}\\|\n",
    "$$\n",
    "Thus the condition number of  a nonsingular matrix is at least $1$.\n",
    "\n",
    "\n",
    "\n"
   ]
  },
  {
   "cell_type": "markdown",
   "metadata": {},
   "source": [
    "# Question 7"
   ]
  },
  {
   "cell_type": "markdown",
   "metadata": {},
   "source": [
    "Since $A$ is symmetric, $\\|A\\|_2=\\rho(A)$. The eigenvalues of $A$ are given by\n",
    "$$\n",
    "\\lambda=\\frac{6\\pm \\sqrt{6^2-4\\times(9-1)}}{2}=3\\pm 1\n",
    "$$\n",
    "Thus\n",
    "$$\n",
    "\\|A\\|_2=\\rho(A)=3+1=4\n",
    "$$"
   ]
  },
  {
   "cell_type": "markdown",
   "metadata": {},
   "source": [
    "# Question 8"
   ]
  },
  {
   "cell_type": "markdown",
   "metadata": {},
   "source": [
    "Note\n",
    "$$\n",
    "A^{-1}=\\frac{\\begin{bmatrix}1&-1-\\epsilon\\\\-1+\\epsilon&1\\end{bmatrix}}{\\det(A)}=\\frac{1}{1-(1+\\epsilon)(1-\\epsilon)}\\begin{bmatrix}1&-1-\\epsilon\\\\-1+\\epsilon&1\\end{bmatrix}=\\frac{1}{\\epsilon^2}\\begin{bmatrix}1&-1-\\epsilon\\\\-1+\\epsilon&1\\end{bmatrix}\n",
    "$$\n",
    "and the 1-norms of $A$ and $A^{-1}$ are\n",
    "$$\n",
    "\\|A\\|_1=\\max_{j}\\sum^n_{i=1}|a_{ij}|=\\max\\{1+|1-\\epsilon|,1+|1+\\epsilon|\\}\n",
    "$$\n",
    "\n",
    "$$\n",
    "\\|A^{-1}\\|_1=\\frac{1}{\\epsilon^2}\\max\\{1+|1-\\epsilon|,1+|1+\\epsilon|\\}\n",
    "$$\n",
    "\n",
    "Then the condition number $\\kappa_1(A)$ is given by\n",
    "$$\n",
    "\\kappa_1(A)=\\frac{1}{\\epsilon^2}(\\max\\{1+|1-\\epsilon|,1+|1+\\epsilon|\\})^2\n",
    "$$\n",
    "If $\\epsilon>0$, then $\\kappa_1(A)=(2+\\epsilon)^2/\\epsilon^2$. If $\\epsilon<0$, then $\\kappa_1(A)=(2-\\epsilon)^2/\\epsilon^2$. Hence\n",
    "$$\n",
    "\\kappa_1(A)=\\frac{(2+|\\epsilon|)^2}{\\epsilon^2}=\\left(\\frac{2}{|\\epsilon|}+1\\right)^2\n",
    "$$"
   ]
  },
  {
   "cell_type": "markdown",
   "metadata": {},
   "source": [
    "# Question 9"
   ]
  },
  {
   "cell_type": "markdown",
   "metadata": {},
   "source": [
    "For all nonzero scalar $\\lambda$,\n",
    "$$\n",
    "\\begin{aligned}\n",
    "\\kappa(\\lambda A)=&\\|\\lambda A\\|\\|(\\lambda A)^{-1}\\|=|\\lambda|\\|A\\||\\lambda^{-1}|\\|A^{-1}\\|\\\\\n",
    "=&|\\lambda||\\lambda^{-1}|\\|A\\|\\|A^{-1}\\|=|\\lambda|\\frac{1}{|\\lambda|}\\|A\\|\\|A^{-1}\\|\\\\\n",
    "=&\\|A\\|\\|A^{-1}\\|=\\kappa(A)\n",
    "\\end{aligned}\n",
    "$$\n",
    "\n"
   ]
  }
 ],
 "metadata": {
  "kernelspec": {
   "display_name": "Python 3",
   "language": "python",
   "name": "python3"
  },
  "language_info": {
   "codemirror_mode": {
    "name": "ipython",
    "version": 3
   },
   "file_extension": ".py",
   "mimetype": "text/x-python",
   "name": "python",
   "nbconvert_exporter": "python",
   "pygments_lexer": "ipython3",
   "version": "3.7.6"
  }
 },
 "nbformat": 4,
 "nbformat_minor": 4
}
