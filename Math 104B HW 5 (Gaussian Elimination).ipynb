{
 "cells": [
  {
   "cell_type": "markdown",
   "metadata": {},
   "source": [
    "# Question 1"
   ]
  },
  {
   "cell_type": "markdown",
   "metadata": {},
   "source": [
    "(a) \n",
    "\n",
    "Implement (write a code) Gaussian Elimination with partial pivoting to solve a linear system $Ax = b$, given as output the coefficients of a nonsingular, $n\\times n$ matrix $A$ and an $n$-vector $b$. Your code should produce the solution $x$ or an error message (if $A$ is nonsingular) and the information needed for the $LU$ factorization."
   ]
  },
  {
   "cell_type": "code",
   "execution_count": 1,
   "metadata": {},
   "outputs": [],
   "source": [
    "import numpy as np\n",
    "\n",
    "def ge_pp(A, b):\n",
    "    \"\"\"\n",
    "    solve a linear system Ax = b with the Gaussian Elimination with partial pivoting.\n",
    "    \n",
    "    Inputs:\n",
    "        A: n-by-n matrix\n",
    "        b: n-vector\n",
    "    \n",
    "    Outputs:\n",
    "        If A is nonsingular, then return (x, P, LU) tuple, where\n",
    "            x: solution\n",
    "            P: permutation matrix for partial pivoting\n",
    "            LU: n-by-n matrix which stores the L and U\n",
    "        else if A is singular, then return (None, None, None) and print error message\n",
    "    \"\"\"\n",
    "    LU, x = np.array(A, dtype='double'), np.array(b, dtype='double').reshape(-1)\n",
    "    n = len(x)\n",
    "    \n",
    "    # permutation matrix\n",
    "    P = np.eye(n)\n",
    "    \n",
    "    for j in range(n-1):\n",
    "        \n",
    "        jm = np.argmax(np.abs(LU[j:,j])) + j  # row index of the pivot\n",
    "        \n",
    "        # singular matrix?\n",
    "        if np.isclose(np.abs(LU[jm,j]), 0):\n",
    "            print('Input matrix is singular!')\n",
    "            return (None, None, None)\n",
    "        \n",
    "        # exchange row index j and jm \n",
    "        if jm != j:\n",
    "            LU[(jm,j),:] = LU[(j,jm),:]\n",
    "            x[jm], x[j] = x[j], x[jm]\n",
    "            P[(jm,j),:] = P[(j,jm),:]\n",
    "\n",
    "        # gaussian elimination\n",
    "        for i in range(j+1,n):\n",
    "            m = LU[i,j]/LU[j,j]\n",
    "            LU[i,j+1:] = LU[i,j+1:]-m*LU[j,j+1:]\n",
    "            x[i] =  x[i]-m*x[j]\n",
    "            LU[i,j] = m\n",
    "    \n",
    "    if np.isclose(np.abs(LU[n-1,n-1]),0):\n",
    "        print('Input matrix is singular!')\n",
    "        return (None, None, None)\n",
    "    \n",
    "    # backward substitution\n",
    "    for i in range(n-1,-1,-1):\n",
    "        x[i] = (x[i]-sum(LU[i,i+1:]*x[i+1:]))/LU[i,i]\n",
    "    \n",
    "    return x, P, LU"
   ]
  },
  {
   "cell_type": "markdown",
   "metadata": {},
   "source": [
    "(b) Use your Gaussian Elimination code to solve $Ax = b$, for some $A,b$"
   ]
  },
  {
   "cell_type": "code",
   "execution_count": 2,
   "metadata": {},
   "outputs": [
    {
     "name": "stdout",
     "output_type": "stream",
     "text": [
      "the solution is [-0.17083787 -0.06746464  0.46028292  0.52448313  0.8726877 ]\n",
      "\n",
      "the permutation matrix is\n",
      "[[1. 0. 0. 0. 0.]\n",
      " [0. 1. 0. 0. 0.]\n",
      " [0. 0. 1. 0. 0.]\n",
      " [0. 0. 0. 1. 0.]\n",
      " [0. 0. 0. 0. 1.]]\n",
      "\n",
      "the L is\n",
      "[[1.         0.         0.         0.         0.        ]\n",
      " [0.         1.         0.         0.         0.        ]\n",
      " [0.2        0.2        1.         0.         0.        ]\n",
      " [0.         0.25       0.5        1.         0.        ]\n",
      " [0.         0.         0.25       0.34234234 1.        ]]\n",
      "\n",
      "the U is\n",
      "[[ 5.          1.          0.          2.          1.        ]\n",
      " [ 0.          4.          0.          1.          2.        ]\n",
      " [ 0.          0.          4.          0.4         0.4       ]\n",
      " [ 0.          0.          0.          5.55       -0.7       ]\n",
      " [ 0.          0.          0.          0.          4.13963964]]\n"
     ]
    }
   ],
   "source": [
    "# A and b\n",
    "A = np.array([[5,1,0,2,1],[0,4,0,1,2],[1,1,4,1,1],[0,1,2,6,0],[0,0,1,2,4]])\n",
    "b = np.array([1,2,3,4,5])\n",
    "\n",
    "x, P, LU = ge_pp(A,b)\n",
    "\n",
    "# parse the results\n",
    "print('the solution is', x)\n",
    "\n",
    "print('\\nthe permutation matrix is')\n",
    "print(P)\n",
    "\n",
    "L = np.tril(LU)\n",
    "L[np.diag_indices_from(LU)] = 1\n",
    "U = np.triu(LU)\n",
    "print('\\nthe L is')\n",
    "print(L)\n",
    "print('\\nthe U is')\n",
    "print(U)"
   ]
  },
  {
   "cell_type": "markdown",
   "metadata": {},
   "source": [
    "(c) Use your Gaussian Elimination code to solve $Ax = b$, for some $A,b$"
   ]
  },
  {
   "cell_type": "code",
   "execution_count": 3,
   "metadata": {},
   "outputs": [
    {
     "name": "stdout",
     "output_type": "stream",
     "text": [
      "Input matrix is singular!\n"
     ]
    }
   ],
   "source": [
    "# A and b\n",
    "A = np.array([[5,1,0,2],[0,4,0,8],[1,1,4,2],[0,1,2,2]])\n",
    "b = np.array([1,2,3,4])\n",
    "\n",
    "x, P, LU = ge_pp(A,b)"
   ]
  },
  {
   "cell_type": "markdown",
   "metadata": {},
   "source": [
    "#  Question 2"
   ]
  },
  {
   "cell_type": "markdown",
   "metadata": {},
   "source": [
    "(a)\n",
    "\n",
    "Since the determinant of an upper triangular matrix is equal to the determinant of its transposed matrix, which is a lower triangular matrix. Therefore, without loss of generality, we only consider the case of the upper triangular matrix. Note for a general upper triangular matrix\n",
    "$$\n",
    "\\begin{aligned}\n",
    "\\det(A)&=\\det\\begin{bmatrix}\n",
    "a_{11}&a_{12}&\\cdots&a_{1n}\\\\\n",
    "0&a_{22}&\\cdots&a_{2n}\\\\\n",
    "\\vdots&\\vdots&\\ddots&\\vdots&\\\\\n",
    "0&0&\\cdots&a_{nn}\n",
    "\\end{bmatrix}\n",
    "=a_{11}\\det\\begin{bmatrix}\n",
    "a_{22}&\\cdots&a_{2n}\\\\\n",
    "\\vdots&\\ddots&\\vdots&\\\\\n",
    "0&\\cdots&a_{nn}\n",
    "\\end{bmatrix}\\\\\n",
    "&=a_{11}a_{22}\\det\\begin{bmatrix}\n",
    "a_{33}&\\cdots&a_{3n}\\\\\n",
    "\\vdots&\\ddots&\\vdots&\\\\\n",
    "0&\\cdots&a_{nn}\n",
    "\\end{bmatrix}\n",
    "=\\dots=a_{11}a_{22}a_{33}\\dots a_{nn}\n",
    "\\end{aligned}\n",
    "$$\n",
    "\n",
    "through the expansion of the cofactors. It implies that the determinant of an $n\\times n$ upper or lower triangular matrix is equal to the product of its diagonal entries.\n",
    "\n",
    "(b)\n",
    "\n",
    "Using the Gaussian Elimination with partial pivoting, we get $PA=LU$ where $P$ is a permutation matrix. Note $\\det(P)=-1\\;\\text{or}\\;1$ for different orders, $\\det(L)=1$, and $\\det(U)$ is equal to the product of the pivots. Thus\n",
    "$$\n",
    "\\det(PA)=\\det(LU)\\Rightarrow \\det(P)\\det(A)=\\det(L)\\det(U)\\Rightarrow\\det(U)=-\\det(A)\\;\\text{or}\\;\\det(A)\n",
    "$$\n",
    "that is the product of the pivots in the Gaussian Elimination for $Ax = b$ is equal to the determinant of $A$ up to a sign.\n",
    "\n",
    "(c)\n",
    "\n",
    "Directly computing the product of two $n\\times n$ lower triangular matrices gives\n",
    "$$\n",
    "L_1L_2=\\begin{bmatrix}\n",
    "a_{11}&0&\\cdots&0\\\\\n",
    "a_{21}&a_{22}&\\cdots&0\\\\\n",
    "\\vdots&\\vdots&\\ddots&\\vdots&\\\\\n",
    "a_{n1}&a_{n2}&\\cdots&a_{nn}\n",
    "\\end{bmatrix}\\begin{bmatrix}\n",
    "b_{11}&0&\\cdots&0\\\\\n",
    "b_{21}&b_{22}&\\cdots&0\\\\\n",
    "\\vdots&\\vdots&\\ddots&\\vdots&\\\\\n",
    "b_{n1}&b_{n2}&\\cdots&b_{nn}\n",
    "\\end{bmatrix}\n",
    "=\\begin{bmatrix}\n",
    "a_{11}b_{11}&0&\\cdots&0\\\\\n",
    "\\sum^{2}_{k=1}a_{2k}b_{k1}&a_{22}b_{22}&\\cdots&0\\\\\n",
    "\\vdots&\\vdots&\\ddots&\\vdots&\\\\\n",
    "\\sum^{n}_{k=1}a_{nk}b_{k1}&\\sum^{n}_{k=2}a_{nk}b_{k2}&\\cdots&a_{nn}b_{nn}\n",
    "\\end{bmatrix}\n",
    "$$\n",
    "which is also a $n\\times n$ lower triangular matrix. And note $U_1U_2=L_1^TL_2^T=(L_2L_1)^T=U$. Thus the product of two $n\\times n$ lower (upper) triangular matrices is a lower (upper) triangular matrix.\n",
    "\n",
    "(d)\n",
    "\n",
    "Use the multiplication rule in part (c), we see\n",
    "$$\n",
    "\\begin{bmatrix}\n",
    "1\\\\\n",
    "&\\ddots\\\\\n",
    "&&1\\\\\n",
    "&&-m_{i+1,i}\\\\\n",
    "&&-m_{i+2,i}&\\ddots\\\\\n",
    "&&\\vdots&&\\ddots\\\\\n",
    "&&-m_{n,i}&&&1\\\\\n",
    "\\end{bmatrix}\\begin{bmatrix}\n",
    "1\\\\\n",
    "&\\ddots\\\\\n",
    "&&1\\\\\n",
    "&&m_{i+1,i}\\\\\n",
    "&&m_{i+2,i}&\\ddots\\\\\n",
    "&&\\vdots&&\\ddots\\\\\n",
    "&&m_{n,i}&&&1\\\\\n",
    "\\end{bmatrix}=\\begin{bmatrix}\n",
    "1\\\\\n",
    "&\\ddots\\\\\n",
    "&&1\\\\\n",
    "&&-m_{i+1,i}+m_{i+1,i}\\\\\n",
    "&&-m_{i+2,i}+m_{i+2,i}&\\ddots\\\\\n",
    "&&\\vdots&&\\ddots\\\\\n",
    "&&-m_{n,i}+m_{n,i}&&&1\\\\\n",
    "\\end{bmatrix}=I\n",
    "$$\n",
    "\n",
    "\n",
    "Thus the inverse of $L_i$ is\n",
    "$$\n",
    "L_{i}^{-1}=\\begin{bmatrix}\n",
    "1\\\\\n",
    "&\\ddots\\\\\n",
    "&&1\\\\\n",
    "&&m_{i+1,i}\\\\\n",
    "&&m_{i+2,i}&\\ddots\\\\\n",
    "&&\\vdots&&\\ddots\\\\\n",
    "&&m_{n,i}&&&1\\\\\n",
    "\\end{bmatrix}\n",
    "$$\n",
    "\n"
   ]
  },
  {
   "cell_type": "markdown",
   "metadata": {},
   "source": [
    "# Question 3"
   ]
  },
  {
   "cell_type": "markdown",
   "metadata": {},
   "source": [
    "Let do the Gaussian Elimination step-by-step\n",
    "$$\n",
    "A=\\begin{bmatrix}1&0&0\\\\0&1&0\\\\0&0&1\\\\\\end{bmatrix}\\begin{bmatrix}5&1&0\\\\0&4&0\\\\1&4&1\\\\\\end{bmatrix}\n",
    "=\\begin{bmatrix}1&0&0\\\\0&1&0\\\\1/5&0&1\\\\\\end{bmatrix}\\begin{bmatrix}5&1&0\\\\0&4&0\\\\0&19/5&1\\\\\\end{bmatrix}\n",
    "=\\begin{bmatrix}1&0&0\\\\0&1&0\\\\1/5&19/20&1\\\\\\end{bmatrix}\\begin{bmatrix}5&1&0\\\\0&4&0\\\\0&0&1\\\\\\end{bmatrix}\n",
    "$$\n",
    "\n",
    "Thus the LU factorization of the matrix $A$ is\n",
    "$$\n",
    "A=\\begin{bmatrix}1&0&0\\\\0&1&0\\\\1/5&19/20&1\\\\\\end{bmatrix}\\begin{bmatrix}5&1&0\\\\0&4&0\\\\0&0&1\\\\\\end{bmatrix}\n",
    "$$\n",
    "\n"
   ]
  },
  {
   "cell_type": "markdown",
   "metadata": {},
   "source": [
    "# Question 4"
   ]
  },
  {
   "cell_type": "markdown",
   "metadata": {},
   "source": [
    "Let the matrix $L$ be\n",
    "$$\n",
    "L =\\begin{bmatrix}l_{11}&0&0\\\\l_{21}&l_{22}&0\\\\l_{31}&l_{32}&l_{33}\\end{bmatrix}\n",
    "$$\n",
    "Then undetermined parameters in the the first column are given by\n",
    "$$\n",
    "\\begin{bmatrix}l_{11}\\\\l_{21}\\\\l_{31}\\end{bmatrix}l_{11}=\\begin{bmatrix}3\\\\-1\\\\0\\end{bmatrix}\\Rightarrow \\begin{bmatrix}l_{11}\\\\l_{21}\\\\l_{31}\\end{bmatrix}=\\begin{bmatrix}\\sqrt{3}\\\\-1/\\sqrt{3}\\\\0\\end{bmatrix}\n",
    "$$\n",
    "The undetermined parameters in the second column are given by\n",
    "$$\n",
    "\\begin{bmatrix}l_{22}\\\\l_{32}\\end{bmatrix}l_{22}=\\begin{bmatrix}3\\\\-1\\end{bmatrix}-\\begin{bmatrix}l_{21}\\\\l_{31}\\end{bmatrix}l_{21}\\Rightarrow \\begin{bmatrix}l_{22}\\\\l_{32}\\end{bmatrix}=\\begin{bmatrix}\\sqrt{8/3}\\\\-\\sqrt{3/8}\\end{bmatrix}\n",
    "$$\n",
    "And the undetermined parameters in the third column are given by\n",
    "$$\n",
    "\\begin{bmatrix}l_{33}\\end{bmatrix}l_{33}=\\begin{bmatrix}3\\end{bmatrix}-\\begin{bmatrix}l_{31}\\end{bmatrix}l_{31}-\\begin{bmatrix}l_{32}\\end{bmatrix}l_{32}\\Rightarrow \\begin{bmatrix}l_{33}\\end{bmatrix}=\\begin{bmatrix}\\sqrt{21/8}\\end{bmatrix}\n",
    "$$\n",
    "Thus the Choleski factorization of matrix $A$ is \n",
    "$$\n",
    "A=\\begin{bmatrix}\\sqrt{3}&0&0\\\\-1/\\sqrt{3}&\\sqrt{8/3}&0\\\\0&-\\sqrt{3/8}&\\sqrt{21/8}\\end{bmatrix}\n",
    "\\begin{bmatrix}\\sqrt{3}&-1/\\sqrt{3}&0\\\\0&\\sqrt{8/3}&-\\sqrt{3/8}\\\\0&0&\\sqrt{21/8}\\end{bmatrix}\n",
    "$$\n",
    "\n"
   ]
  }
 ],
 "metadata": {
  "kernelspec": {
   "display_name": "Python 3",
   "language": "python",
   "name": "python3"
  },
  "language_info": {
   "codemirror_mode": {
    "name": "ipython",
    "version": 3
   },
   "file_extension": ".py",
   "mimetype": "text/x-python",
   "name": "python",
   "nbconvert_exporter": "python",
   "pygments_lexer": "ipython3",
   "version": "3.7.6"
  }
 },
 "nbformat": 4,
 "nbformat_minor": 4
}
