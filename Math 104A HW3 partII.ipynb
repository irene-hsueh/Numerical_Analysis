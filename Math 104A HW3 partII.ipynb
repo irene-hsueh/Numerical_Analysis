{
 "cells": [
  {
   "cell_type": "code",
   "execution_count": 34,
   "metadata": {},
   "outputs": [],
   "source": [
    "# import required packages\n",
    "import numpy as np\n",
    "import matplotlib.pyplot as plt\n",
    "import pandas as pd"
   ]
  },
  {
   "cell_type": "markdown",
   "metadata": {},
   "source": [
    "# Problem 1"
   ]
  },
  {
   "cell_type": "code",
   "execution_count": 35,
   "metadata": {},
   "outputs": [],
   "source": [
    "def coeff(xn, yn):\n",
    "    # define a new function called coeff()\n",
    "    # the function will compute the coefficients c0, c1,...,cn\n",
    "    # xn is the nodes\n",
    "    # yn is the value corresponding to the xn\n",
    "    cn = np.copy(yn) # return an array copy of yn\n",
    "    n = len(xn) - 1 # set n to the length of xn subtract by 1\n",
    "    for k in range(1,n+1): # implement a for loop with an indicator variable of k within a range\n",
    "        for j in range(n,k-1,-1): # implement a nested for loop with an indicator variable of j within a range\n",
    "            cn[j] = (cn[j]-cn[j-1])/(xn[j]-xn[j-k])\n",
    "    return cn\n",
    "    # returns the coefficients\n",
    "\n",
    "def interpolation(x, xn, cn):\n",
    "    \n",
    "    # define a new function called interpolation\n",
    "    # the function will compute the newton interpolation polynomial at an arbitrary point x\n",
    "    # x is an arbitrary point\n",
    "    # xn is the nodes\n",
    "    # cn is the newtons form coefficient\n",
    "    n = len(cn)-1 # set n to be the value after the length of cn subtract by 1\n",
    "    i_p = cn[n] # n is the number to corresponding cn\n",
    "    for j in range(n-1,-1,-1): # implement a for loop with j as indicator variable within a range\n",
    "        i_p = cn[j]+(x-xn[j])*i_p\n",
    "    return i_p\n",
    "    # the functions returns the estimated value at x"
   ]
  },
  {
   "cell_type": "markdown",
   "metadata": {},
   "source": [
    "Test Code"
   ]
  },
  {
   "cell_type": "code",
   "execution_count": 36,
   "metadata": {},
   "outputs": [
    {
     "name": "stdout",
     "output_type": "stream",
     "text": [
      "Coefficients for f(x)=2x from Newton's Interpolation:  [-2.  2.  0.  0.  0.]\n"
     ]
    },
    {
     "data": {
      "image/png": "[encoded data removed]",
      "text/plain": [
       "<Figure size 432x288 with 1 Axes>"
      ]
     },
     "metadata": {
      "needs_background": "light"
     },
     "output_type": "display_data"
    }
   ],
   "source": [
    "# let xn be an array\n",
    "xn = np.array([-1,-1/2,0,1/2,1]) \n",
    "# yn is the value of 2 times xn, whih is the corresponding value to xn\n",
    "yn = 2*xn\n",
    "# utilize the use defined function coeff() and set the value to cn\n",
    "cn = coeff(xn, yn)       \n",
    "# print the resulting value of n\n",
    "print(\"Coefficients for f(x)=2x from Newton's Interpolation: \", cn)\n",
    "\n",
    "# define a variable xbar\n",
    "# that will return even-spaced values within the indicated interval\n",
    "x_bar = -1+np.arange(101)*2/100  \n",
    "    \n",
    "# the value at test points\n",
    "p_s = np.zeros_like(x_bar) # use np.zeros_like to return an array of zeros that has the same type as xbar\n",
    "for i, x in enumerate(x_bar): # implement a for loop with indiator variable i and x\n",
    "    p_s[i] = interpolation(x,xn,cn) # utilize the user defined function\n",
    "\n",
    "# contruct a plot for the curve of error\n",
    "plt.figure()\n",
    "plt.plot(x_bar,p_s)\n",
    "plt.plot(xn,yn,'o')\n",
    "# labeling the x axis\n",
    "plt.xlabel('x')\n",
    "# labeling the y axis\n",
    "plt.ylabel('Error')\n",
    "\n",
    "# display the constructed plot\n",
    "plt.show()"
   ]
  },
  {
   "cell_type": "markdown",
   "metadata": {},
   "source": [
    "The implementation is good."
   ]
  },
  {
   "cell_type": "code",
   "execution_count": 37,
   "metadata": {},
   "outputs": [
    {
     "data": {
      "image/png": "[encoded data removed]",
      "text/plain": [
       "<Figure size 432x288 with 1 Axes>"
      ]
     },
     "metadata": {
      "needs_background": "light"
     },
     "output_type": "display_data"
    }
   ],
   "source": [
    "# nodes represented as array\n",
    "# that will return even-spaced values within the indicated interval\n",
    "xn = -1+np.arange(11)*2/10  \n",
    "# values corresponding to the nodes xn \n",
    "# that will calulate the exponential of items in the array xn\n",
    "yn = xn*np.exp(-xn**2) \n",
    "# utilize the user defined funtion and set to cn\n",
    "cn = coeff(xn, yn)   \n",
    "\n",
    "# define a variable xbar\n",
    "# that will return even-spaced values within the indicated interval\n",
    "x_bar = -1+np.arange(101)*2/100  \n",
    "    \n",
    "# the value at test points\n",
    "p_s = np.zeros_like(x_bar) # use np.zeros_like to return an array of zeros that has the same type as xbar\n",
    "for i, x in enumerate(x_bar): # implement a for loop with indiator variable i and x\n",
    "    p_s[i] = interpolation(x,xn,cn) # utilize the user defined function\n",
    "\n",
    "# contruct a plot for the curve of error\n",
    "plt.figure()\n",
    "plt.plot(xbar,xbar*np.exp(-xbar**2)-ps)\n",
    "# labeling the x axis\n",
    "plt.xlabel('x')\n",
    "# labeling the y axis\n",
    "plt.ylabel('Error')\n",
    "# create a title for the constructed plot\n",
    "plt.title('f(x)-p_{10}(x)')\n",
    "\n",
    "# display the constructed plot\n",
    "plt.show()"
   ]
  },
  {
   "cell_type": "markdown",
   "metadata": {},
   "source": [
    "# Problem 4\n",
    "\n"
   ]
  },
  {
   "cell_type": "code",
   "execution_count": 38,
   "metadata": {},
   "outputs": [],
   "source": [
    "\n",
    "def nscoeff(xn, yn):\n",
    "    # define a new function called nscoeff()\n",
    "    # the function will compute the coefficients for the natural spline interpolation polynomail\n",
    "    # the function will take in xn value, which is the nodes\n",
    "    # the function will take in yn value, which is the values corresponding to xn\n",
    "    \n",
    "    dxn = np.diff(xn)  # use np.diff to take in xn to find differences of nodes\n",
    "    dyn = np.diff(yn)  # use np.diff to take in yn to determine the differences of values\n",
    "    \n",
    "    dn = np.zeros(len(xn))  # use np.zeros to return an array filled with zeros. find derivatives\n",
    "    dn[1:-1] = tridiagonal((dxn[1:-1], 2*(dxn[:-1]+dxn[1:]), dxn[1:-1]),\n",
    "                        np.diff(6*dyn/dxn)) # utilize the user defined function\n",
    "\n",
    "    cn = np.empty((len(xn), 4)) # use np.empty to return an array without intializing entries\n",
    "    cn[:-1,0] = np.diff(dn)/(6*dxn)\n",
    "    cn[-1,0] = np.nan # not a number\n",
    "    cn[:,1] = dn/2\n",
    "    cn[:-1,2] = dyn/dxn-dxn*(dn[1:]+2*dn[:-1])/6\n",
    "    cn[-1,2] = np.nan # not a number\n",
    "    cn[:,3] = yn\n",
    "    \n",
    "    return cn\n",
    "    # the function will return the coefficients\n",
    "\n",
    "# function to get the evaluation of the natural spline S(x)\n",
    "def nsplinterpolation(x, xn, cn):\n",
    "    # define a new function called nsplinterpolation\n",
    "    # the function will compute the natural splines interpolation polynomial at an arbitrary x\n",
    "    # the function will take in x, which is an arbitrary point\n",
    "    # the function will take in xn, which is the nodes\n",
    "    # the function will take in cn, which is the natural splines coefficients\n",
    "   \n",
    "    i = np.searchsorted(xn,x,'left') # maintain order\n",
    "    if i > 0: # set conditions\n",
    "        d = x-xn[i-1]\n",
    "        i_p = ((cn[i-1,0]*d+cn[i-1,1])*d+cn[i-1,2])*d+cn[i-1,3]\n",
    "    else:\n",
    "        i_p = cn[0,3] # values 0 to 3\n",
    "    return i_p\n",
    "\n",
    "# tridiagonal solver\n",
    "def tridiagonal(diagonal, bv):\n",
    "    # define a new function call tridiagonal()\n",
    "    # that solves for linear equation\n",
    "    # takes in diagonal, which is a list contains diagonal values\n",
    "    # takes in bv, which is a vector value\n",
    "    \n",
    "    dd, dm, du = np.array(diagonal[0]), np.array(diagonal[1]), np.array(diagonal[2])\n",
    "    \n",
    "    # solve this tridiagonal linear equation\n",
    "    for i in range(len(bv)-1): # implement for loop with indicator variable i within a range\n",
    "        dd[i] = dd[i]/dm[i]\n",
    "        dm[i+1] = dm[i+1]-dd[i]*du[i]\n",
    "    x = np.copy(bv)\n",
    "    for i in range(1,len(bv)): # implement for loop with indicator variable i within a range\n",
    "        x[i] = x[i]-dd[i-1]*x[i-1]\n",
    "    x[len(bv)-1] = x[len(bv)-1]/dm[len(bv)-1]\n",
    "    for i in range(len(bv)-2,-1,-1): # implement for loop with indicator variable i within a range\n",
    "        x[i] = (x[i]-du[i]*x[i+1])/dm[i]\n",
    "    \n",
    "    return x"
   ]
  },
  {
   "cell_type": "markdown",
   "metadata": {},
   "source": [
    "# Problem 5\n",
    "\n"
   ]
  },
  {
   "cell_type": "code",
   "execution_count": 39,
   "metadata": {},
   "outputs": [
    {
     "name": "stdout",
     "output_type": "stream",
     "text": [
      "     $t$   $x$   $y$     $a_x$     $b_x$     $c_x$  $d_x$     $a_y$     $b_y$  \\\n",
      "0  0.000  1.50  0.75  0.010537  0.000000 -0.974898   1.50  0.276944  0.000000   \n",
      "1  0.618  0.90  0.90  0.102103  0.019535 -0.962825   0.90 -3.001012  0.513454   \n",
      "2  0.935  0.60  1.00  0.987167  0.116635 -0.919659   0.60  2.430450 -2.340509   \n",
      "3  1.255  0.35  0.80 -1.773549  1.064316 -0.541755   0.35 -0.273187 -0.007277   \n",
      "4  1.636  0.20  0.45  5.394568 -0.962851 -0.503097   0.20  2.173896 -0.319530   \n",
      "5  1.905  0.10  0.20 -3.393333  3.390566  0.149959   0.10 -0.784397  1.434804   \n",
      "6  2.317  0.50  0.10  0.670643 -0.803594  1.215791   0.50 -0.474226  0.465289   \n",
      "7  2.827  1.00  0.20 -0.147442  0.222490  0.919428   1.00  0.172483 -0.260277   \n",
      "8  3.330  1.50  0.25       NaN  0.000000       NaN   1.50       NaN  0.000000   \n",
      "\n",
      "      $c_y$  $d_y$  \n",
      "0  0.136947   0.75  \n",
      "1  0.454261   0.90  \n",
      "2 -0.124915   1.00  \n",
      "3 -0.876207   0.80  \n",
      "4 -1.000720   0.45  \n",
      "5 -0.700711   0.20  \n",
      "6  0.082127   0.10  \n",
      "7  0.186683   0.20  \n",
      "8       NaN   0.25  \n"
     ]
    },
    {
     "data": {
      "image/png": "[encoded data removed]",
      "text/plain": [
       "<Figure size 432x288 with 1 Axes>"
      ]
     },
     "metadata": {
      "needs_background": "light"
     },
     "output_type": "display_data"
    }
   ],
   "source": [
    "# load the given data as an array\n",
    "data = np.array([\n",
    "[0, 1.5, 0.75],[0.618, 0.90, 0.90],[0.935, 0.60, 1.00],[1.255, 0.35, 0.80],\n",
    "[1.636, 0.20, 0.45],[1.905, 0.10, 0.20],[2.317, 0.50, 0.10],[2.827, 1.00, 0.20],\n",
    "[3.330, 1.50, 0.25]\n",
    "])\n",
    "\n",
    "# compute coefficients of S_x(t)\n",
    "c_n_x = nscoeff(data[:,0], data[:,1])\n",
    "\n",
    "# compute coefficients of S_y(t)\n",
    "c_n_y = nscoeff(data[:,0], data[:,2])\n",
    "\n",
    "# tabulate\n",
    "print(pd.DataFrame(np.hstack((data,cn_x,cn_y)),\n",
    "       columns=['$t$','$x$','$y$','$a_x$','$b_x$','$c_x$',\n",
    "                '$d_x$','$a_y$','$b_y$','$c_y$','$d_y$']))\n",
    "\n",
    "# plot the parametric curve\n",
    "t_bar = np.linspace(data[0,0],data[-1,0]) # use linespace to return an even spaced number within interval\n",
    "p_sx = np.zeros_like(t_bar) # use np.zeros_like to return an array of zeros that has the same type as t_bar\n",
    "p_sy = np.zeros_like(t_bar) # use np.zeros_like to return an array of zeros that has the same type as t_bar\n",
    "for i, t in enumerate(t_bar): # implement for loop with indicator i and t\n",
    "    p_sx[i] = nsplinterpolation(t,data[:,0],c_n_x) # utilize user defined function\n",
    "    p_sy[i] = nsplinterpolation(t,data[:,0],c_n_y) # utilize user defined function\n",
    "\n",
    "# create a plot\n",
    "plt.figure()\n",
    "plt.plot(p_sx,p_sy)\n",
    "plt.plot(data[:,1],data[:,2],'o')\n",
    "# labeling the x axis\n",
    "plt.xlabel('x')\n",
    "# labeling the y axis\n",
    "plt.ylabel('y')\n",
    "# create a title for the plot\n",
    "plt.title('Curve for Parameter')\n",
    "\n",
    "# display the contructed plot\n",
    "plt.show()"
   ]
  },
  {
   "cell_type": "code",
   "execution_count": null,
   "metadata": {},
   "outputs": [],
   "source": []
  },
  {
   "cell_type": "code",
   "execution_count": null,
   "metadata": {},
   "outputs": [],
   "source": []
  }
 ],
 "metadata": {
  "kernelspec": {
   "display_name": "Python 3",
   "language": "python",
   "name": "python3"
  },
  "language_info": {
   "codemirror_mode": {
    "name": "ipython",
    "version": 3
   },
   "file_extension": ".py",
   "mimetype": "text/x-python",
   "name": "python",
   "nbconvert_exporter": "python",
   "pygments_lexer": "ipython3",
   "version": "3.7.3"
  }
 },
 "nbformat": 4,
 "nbformat_minor": 4
}
