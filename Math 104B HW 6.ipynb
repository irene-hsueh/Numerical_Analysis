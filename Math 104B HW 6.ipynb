{
 "cells": [
  {
   "cell_type": "code",
   "execution_count": 1,
   "metadata": {},
   "outputs": [],
   "source": [
    "import numpy as np\n",
    "import matplotlib.pyplot as plt"
   ]
  },
  {
   "cell_type": "markdown",
   "metadata": {},
   "source": [
    "# problem 1"
   ]
  },
  {
   "cell_type": "markdown",
   "metadata": {},
   "source": [
    "## (a)"
   ]
  },
  {
   "cell_type": "code",
   "execution_count": 2,
   "metadata": {},
   "outputs": [],
   "source": [
    "# Implement the tridiagonal solver seen in class.\n",
    "\n",
    "def trisolve(A, b):\n",
    "    \"\"\"\n",
    "    solve a linear system Ax = b where A is a tridiagonal matrix\n",
    "    \n",
    "    Inputs:\n",
    "        A: 2D array, n-by-3, each column represents a diagonal with \n",
    "            indices (-1,0,1)\n",
    "        b: 1D array, n, ordinate\n",
    "        \n",
    "    Output:\n",
    "        solution, 1D array, n\n",
    "    \"\"\"    \n",
    "    n = len(b)\n",
    "    A = np.array(A, dtype='double')\n",
    "    b = np.array(b, dtype='double')\n",
    "    \n",
    "    for i in range(n-1):\n",
    "        A[i,0] = A[i,0]/A[i,1]\n",
    "        A[i+1,1] = A[i+1,1]-A[i,0]*A[i,2]\n",
    "    \n",
    "    for i in range(1, n):\n",
    "        b[i] = b[i]-A[i-1,0]*b[i-1]\n",
    "    \n",
    "    b[n-1] = b[n-1]/A[n-1,1]\n",
    "    for i in range(n-2,-1,-1):\n",
    "        b[i] = (b[i]-A[i,2]*b[i+1])/A[i,1]\n",
    "   \n",
    "    return b"
   ]
  },
  {
   "cell_type": "markdown",
   "metadata": {},
   "source": [
    "## (b)"
   ]
  },
  {
   "cell_type": "code",
   "execution_count": 3,
   "metadata": {},
   "outputs": [
    {
     "name": "stdout",
     "output_type": "stream",
     "text": [
      "exact solution: [-2.   6.  -3.5  4. ]\n",
      "our implementation: [-2.   6.  -3.5  4. ]\n"
     ]
    }
   ],
   "source": [
    "# Test our implementation.\n",
    "\n",
    "A = np.array([[2,1,0,0],\n",
    "              [1,4,6,0],\n",
    "              [0,2,4,1],\n",
    "              [0,0,2,2]])\n",
    "b = np.array([2,1,2,1])\n",
    "# solve by the standrad package\n",
    "print('exact solution:', np.linalg.solve(A, b))\n",
    "\n",
    "At = np.zeros((A.shape[0],3))\n",
    "At[:-1,0] = np.diag(A,-1)\n",
    "At[:,1] = np.diag(A,0)\n",
    "At[:-1,2] = np.diag(A,1)\n",
    "# solve by our implementation\n",
    "print('our implementation:', trisolve(At, b))"
   ]
  },
  {
   "cell_type": "markdown",
   "metadata": {},
   "source": [
    "Our implementation is correct."
   ]
  },
  {
   "cell_type": "markdown",
   "metadata": {},
   "source": [
    "# problem 2"
   ]
  },
  {
   "cell_type": "markdown",
   "metadata": {},
   "source": [
    "## (a)\n",
    "\n",
    "Use your use your tridiagonal solver to solve (2) for $N = 50$ and plot your corresponding solution."
   ]
  },
  {
   "cell_type": "code",
   "execution_count": 4,
   "metadata": {},
   "outputs": [
    {
     "data": {
      "image/png": "[encoded data removed]",
      "text/plain": [
       "<Figure size 432x288 with 1 Axes>"
      ]
     },
     "metadata": {
      "needs_background": "light"
     },
     "output_type": "display_data"
    }
   ],
   "source": [
    "N_a = 50  # N, the subscript `a` represents part (a) of the question \n",
    "h_a = 1/N_a\n",
    "\n",
    "x_a = np.linspace(0,1,N_a+1)\n",
    "v_a = np.zeros_like(x_a, dtype='double')\n",
    "\n",
    "# build this linear system \n",
    "At = np.zeros((N_a-1, 3))\n",
    "At[:-1,0] = -1/h_a**2*np.ones(N_a-2)\n",
    "At[:,1] = (2/h_a**2+np.pi**2)*np.ones(N_a-1)\n",
    "At[:-1,2] = -1/h_a**2*np.ones(N_a-2)\n",
    "b = 2*np.pi**2*np.sin(np.pi*x_a[1:N_a])\n",
    "\n",
    "# solve the linear system\n",
    "v_a[1:N_a] = trisolve(At, b)\n",
    "\n",
    "# do a plot\n",
    "plt.figure()\n",
    "plt.plot(x_a, v_a)\n",
    "plt.xlabel('x')\n",
    "plt.ylabel('v')\n",
    "\n",
    "plt.show()"
   ]
  },
  {
   "cell_type": "markdown",
   "metadata": {},
   "source": [
    "## (b)\n",
    "\n",
    "The exact solution to the boundary value problem (1) is $u(x) = \\sin(\\pi x)$. Check this."
   ]
  },
  {
   "cell_type": "markdown",
   "metadata": {},
   "source": [
    "Since\n",
    "$$\n",
    "\\begin{aligned}\n",
    "-u''+\\pi^2 u&=-(\\sin(\\pi x))''+\\pi^2 \\sin(\\pi x)\\\\\n",
    "&=2\\pi^2 \\sin(\\pi x)\n",
    "\\end{aligned}\n",
    "$$\n",
    "and $\\sin(\\pi 0)=\\sin(\\pi 1)=0$, $u(x)=\\sin(\\pi x)$ is the solution to this problem."
   ]
  },
  {
   "cell_type": "markdown",
   "metadata": {},
   "source": [
    "## (c)\n",
    "\n",
    "Compute the error of your approximation in the 2-norm for $N = 50$. Solve again (2) for $N = 100$, by how much would you expect the error to decrease? verify your answer by comparing the error for $N = 50$ and $N = 100$."
   ]
  },
  {
   "cell_type": "code",
   "execution_count": 5,
   "metadata": {},
   "outputs": [
    {
     "name": "stdout",
     "output_type": "stream",
     "text": [
      "error for N = 50 is 0.0008224940857685608\n",
      "error for N = 100 is 0.00029078839951571505\n"
     ]
    }
   ],
   "source": [
    "# compute the error of your approximation in the 2-norm for N = 50\n",
    "err_a = np.linalg.norm(v_a-np.sin(np.pi*x_a),2)\n",
    "print('error for N = %d is'%N_a, err_a)\n",
    "\n",
    "N_c = 100  # N, the subscript `c` represents part (c) of the question \n",
    "h_c = 1/N_c\n",
    "\n",
    "x_c = np.linspace(0,1,N_c+1)\n",
    "v_c = np.zeros_like(x_c, dtype='double')\n",
    "\n",
    "# build this linear system \n",
    "At = np.zeros((N_c-1, 3))\n",
    "At[:-1,0] = -1/h_c**2*np.ones(N_c-2)\n",
    "At[:,1] = (2/h_c**2+np.pi**2)*np.ones(N_c-1)\n",
    "At[:-1,2] = -1/h_c**2*np.ones(N_c-2)\n",
    "b = 2*np.pi**2*np.sin(np.pi*x_c[1:N_c])\n",
    "\n",
    "# solve the linear system\n",
    "v_c[1:N_c] = trisolve(At, b)\n",
    "\n",
    "# compute the error of your approximation in the 2-norm for N = 100\n",
    "err_c = np.linalg.norm(v_c-np.sin(np.pi*x_c),2)\n",
    "print('error for N = %d is'%N_c, err_c)"
   ]
  },
  {
   "cell_type": "markdown",
   "metadata": {},
   "source": [
    "The error we expect is approximately $O(h^{\\alpha})$, $\\alpha=2$."
   ]
  },
  {
   "cell_type": "code",
   "execution_count": 6,
   "metadata": {},
   "outputs": [
    {
     "name": "stdout",
     "output_type": "stream",
     "text": [
      "alpha is 1.5000355883713066\n"
     ]
    }
   ],
   "source": [
    "print('alpha is', np.log(err_c/err_a)/np.log(N_a/N_c))"
   ]
  },
  {
   "cell_type": "markdown",
   "metadata": {},
   "source": [
    "Note the computed $\\alpha$ is approximately $1.5$. This is because we calculate the error in 2-norm. If we calculate the error in max-norm, then we will get $\\alpha=2$."
   ]
  },
  {
   "cell_type": "markdown",
   "metadata": {},
   "source": [
    "## (d)\n",
    "\n",
    "In real applications we do not know the exact solution. Describe a process to check the convergence and rate of convergence of your approximation if you don't know the exact solution."
   ]
  },
  {
   "cell_type": "markdown",
   "metadata": {},
   "source": [
    "Compute the approximations for $N,2N,4N$ for fix $N$. Then compute the norm of vector $\\frac{v_{N}-v_{2N}}{v_{2N}-v_{4N}}$ where $v_{N},v_{2N},v_{4N}$ are numerical results for different number of grid points at same node $x$. Then \n",
    "$$\n",
    "2^{\\alpha} \\approx  \\left\\|\\frac{v_{N}-v_{2N}}{v_{2N}-v_{4N}} \\right\\|\n",
    "$$\n",
    "where $\\alpha$ is the rate of convergence."
   ]
  },
  {
   "cell_type": "markdown",
   "metadata": {},
   "source": [
    "# problem 3"
   ]
  },
  {
   "cell_type": "markdown",
   "metadata": {},
   "source": [
    "## (a)\n",
    "\n",
    "Do the first two iterations of Jacobi."
   ]
  },
  {
   "cell_type": "markdown",
   "metadata": {},
   "source": [
    "Jacobi's iteration for this system is\n",
    "$$\n",
    "\\begin{aligned}\n",
    "x_1^{(k+1)}=&2x_2^{(k)}-x_3^{(k)}-1\\\\\n",
    "x_2^{(k+1)}=&-2x_1^{(k)}+3x_3^{(k)}+3\\\\\n",
    "x_3^{(k+1)}=&-x_1^{(k)}+x_2^{(k)}\\\\\n",
    "\\end{aligned}\n",
    "$$\n",
    "Starting with $x^{(0)}=[0,0,0]^{T}$, we obtain\n",
    "$$\n",
    "x^{(1)}=\\begin{bmatrix}\n",
    "-1\\\\3\\\\0\n",
    "\\end{bmatrix},\\quad\n",
    "x^{(2)}=\\begin{bmatrix}\n",
    "5\\\\5\\\\4\n",
    "\\end{bmatrix}\n",
    "$$\n"
   ]
  },
  {
   "cell_type": "markdown",
   "metadata": {},
   "source": [
    "## (b)\n",
    "\n",
    "Do the first two iterations of Gauss-Seidel."
   ]
  },
  {
   "cell_type": "markdown",
   "metadata": {},
   "source": [
    "Gauss-Seidel's iteration for this system is\n",
    "$$\n",
    "\\begin{aligned}\n",
    "x_1^{(k+1)}&=2x_2^{(k)}-x_3^{(k)}-1\\\\\n",
    "x_2^{(k+1)}&=-2x_1^{(k+1)}+3x_3^{(k)}+3\\\\\n",
    "x_3^{(k+1)}&=-x_1^{(k+1)}+x_2^{(k+1)}\\\\\n",
    "\\end{aligned}\n",
    "$$\n",
    "Starting with $x^{(0)}=[0,0,0]^{T}$, we obtain\n",
    "$$\n",
    "x^{(1)}=\\begin{bmatrix}\n",
    "-1\\\\5\\\\6\n",
    "\\end{bmatrix},\\quad\n",
    "x^{(2)}=\\begin{bmatrix}\n",
    "3\\\\15\\\\12\n",
    "\\end{bmatrix}\n",
    "$$\n"
   ]
  },
  {
   "cell_type": "markdown",
   "metadata": {},
   "source": [
    "## (c)\n",
    "\n",
    "Which of the two approximations is closer to the exact solution $(1,1,0)$?"
   ]
  },
  {
   "cell_type": "markdown",
   "metadata": {},
   "source": [
    "The error of first two iterations of Jacobi in 2-norm are $\\|e^{(1)}\\|_2\\approx 2.828$, $\\|e^{(2)}\\|_2\\approx 6.9282$. And the error of first two iterations of Gauss-Seidel in 2-norm are $\\|e^{(1)}\\|_2\\approx 7.4833$, $\\|e^{(2)}\\|_2\\approx 18.5472$. So for first two iterations, the approximation given by the Jacobi is closer to the exact solution."
   ]
  },
  {
   "cell_type": "markdown",
   "metadata": {},
   "source": [
    "# problem 4"
   ]
  },
  {
   "cell_type": "markdown",
   "metadata": {},
   "source": [
    "The iteration matrix of Jacobi for this system is\n",
    "$$\n",
    "T_{jacobi}=\\begin{pmatrix}\n",
    "2&0&0\\\\\n",
    "0&2&0\\\\\n",
    "0&0&2\n",
    "\\end{pmatrix}^{-1}\\begin{pmatrix}\n",
    "0&1&-1\\\\\n",
    "-2&0&-2\\\\\n",
    "1&1&0\n",
    "\\end{pmatrix}=\\begin{pmatrix}\n",
    "0&1/2&-1/2\\\\\n",
    "-1&0&-1\\\\\n",
    "1/2&1/2&0\n",
    "\\end{pmatrix}\n",
    "$$\n",
    "Compute the eigenvalues\n",
    "$$\n",
    "\\det(T_{jacobi}-\\lambda I)=-\\lambda(\\lambda^2+5/4)\n",
    "$$\n",
    "Then we see that the eigenvalues are $0,\\pm i\\sqrt{5/4}$, and the spectral radius of the Jacobi iteration matrix is\n",
    "$$\n",
    "\\rho(T_{jacobi})=\\sqrt{5/4}>1\n",
    "$$\n",
    "Thus Jacobi method diverges for this system. The iteration matrix of Gauss-Seidel for this system is\n",
    "\n",
    "$$\n",
    "T_{gauss-seidel}=\\begin{pmatrix}\n",
    "2&0&0\\\\\n",
    "2&2&0\\\\\n",
    "-1&-1&2\n",
    "\\end{pmatrix}^{-1}\\begin{pmatrix}\n",
    "0&1&-1\\\\\n",
    "0&0&-2\\\\\n",
    "0&0&0\n",
    "\\end{pmatrix}=\\begin{pmatrix}\n",
    "1/2&0&0\\\\\n",
    "-1/2&1/2&0\\\\\n",
    "0&1/4&1/2\n",
    "\\end{pmatrix}\\begin{pmatrix}\n",
    "0&1&-1\\\\\n",
    "0&0&-2\\\\\n",
    "0&0&0\n",
    "\\end{pmatrix}=\\begin{pmatrix}\n",
    "0&1/2&-1/2\\\\\n",
    "0&-1/2&-1/2\\\\\n",
    "0&0&-1/2\n",
    "\\end{pmatrix}\n",
    "$$\n",
    "Compute the eigenvalues\n",
    "$$\n",
    "T_{gauss-seidel}= -\\lambda (\\lambda + 1/2)^2\n",
    "$$\n",
    "Then we see that the eigenvalues are $0,-1/2$, and the spectral radius of the Gauss-Seidel iteration matrix is\n",
    "$$\n",
    "\\rho(T_{gauss-seidel})=1/2<1\n",
    "$$\n",
    "Thus Gauss-Seidel method converges for this system."
   ]
  }
 ],
 "metadata": {
  "kernelspec": {
   "display_name": "Python 3",
   "language": "python",
   "name": "python3"
  },
  "language_info": {
   "codemirror_mode": {
    "name": "ipython",
    "version": 3
   },
   "file_extension": ".py",
   "mimetype": "text/x-python",
   "name": "python",
   "nbconvert_exporter": "python",
   "pygments_lexer": "ipython3",
   "version": "3.7.6"
  }
 },
 "nbformat": 4,
 "nbformat_minor": 4
}
