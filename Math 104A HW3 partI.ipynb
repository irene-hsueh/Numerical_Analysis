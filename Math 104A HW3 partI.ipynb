{
 "cells": [
  {
   "cell_type": "code",
   "execution_count": 1,
   "metadata": {},
   "outputs": [],
   "source": [
    "# packages\n",
    "import numpy as np\n",
    "import matplotlib.pyplot as plt\n",
    "import pandas as pd"
   ]
  },
  {
   "cell_type": "markdown",
   "metadata": {},
   "source": [
    "# Problem 1"
   ]
  },
  {
   "cell_type": "markdown",
   "metadata": {},
   "source": [
    "- Write computer codes to compute the coefficients $c_0, c_1,\\dots , c_n$ and to evaluate the corresponding interpolation polynomial at an arbitrary point $x$. Test your codes and turn in a run of your test."
   ]
  },
  {
   "cell_type": "code",
   "execution_count": 2,
   "metadata": {},
   "outputs": [],
   "source": [
    "def comp_ntcoefs(xn, yn):\n",
    "    \"\"\"\n",
    "    compute the coefficients c_0, c_1, ..., c_n of Newton\n",
    "    interpolation polynomial\n",
    "    \n",
    "    Args:\n",
    "        xn: nodes\n",
    "        yn: values at corresponding nodes\n",
    "    Ret:\n",
    "        coefficients\n",
    "    \"\"\"\n",
    "    cs = np.copy(yn)\n",
    "    n = len(xn) - 1\n",
    "    for k in range(1,n+1):\n",
    "        for j in range(n,k-1,-1):\n",
    "            cs[j] = (cs[j]-cs[j-1])/(xn[j]-xn[j-k])\n",
    "    return cs\n",
    "\n",
    "def ntinterp(x, xn, cs):\n",
    "    \"\"\"\n",
    "    evaluate the Newton interpolation polynomial\n",
    "    at an arbitrary point x\n",
    "    \n",
    "    Args:\n",
    "        x: an arbitrary point\n",
    "        xn: nodes\n",
    "        cs: coefficients in Newton's form\n",
    "    Ret:\n",
    "        approximate value at point x\n",
    "    \"\"\"\n",
    "    n = len(cs)-1\n",
    "    p = cs[n]\n",
    "    for j in range(n-1,-1,-1):\n",
    "        p = cs[j]+(x-xn[j])*p\n",
    "    return p"
   ]
  },
  {
   "cell_type": "markdown",
   "metadata": {},
   "source": [
    "Test Code"
   ]
  },
  {
   "cell_type": "code",
   "execution_count": 3,
   "metadata": {},
   "outputs": [
    {
     "name": "stdout",
     "output_type": "stream",
     "text": [
      "newton's interpolation coefficients for f(x)=2x [-2.  2.  0.  0.  0.]\n"
     ]
    },
    {
     "data": {
      "image/png": "[encoded data removed]",
      "text/plain": [
       "<Figure size 432x288 with 1 Axes>"
      ]
     },
     "metadata": {
      "needs_background": "light"
     },
     "output_type": "display_data"
    }
   ],
   "source": [
    "xn = np.array([-1,-1/2,0,1/2,1]) # nodes\n",
    "yn = 2*xn                       # values\n",
    "cs = comp_ntcoefs(xn, yn)       # coeffs\n",
    "print(\"newton's interpolation coefficients for f(x)=2x\", cs)\n",
    "\n",
    "xbar = -1+np.arange(101)*2/100  # \\bar{x}\n",
    "    \n",
    "# value at test points\n",
    "ps = np.zeros_like(xbar)\n",
    "for i, x in enumerate(xbar):\n",
    "    ps[i] = ntinterp(x,xn,cs)\n",
    "\n",
    "# plot the curve of error\n",
    "plt.figure()\n",
    "plt.plot(xbar,ps)\n",
    "plt.plot(xn,yn,'o')\n",
    "plt.xlabel('x')\n",
    "plt.ylabel('error')\n",
    "\n",
    "plt.show()"
   ]
  },
  {
   "cell_type": "markdown",
   "metadata": {},
   "source": [
    "Our implementation is correct."
   ]
  },
  {
   "cell_type": "markdown",
   "metadata": {},
   "source": [
    "- Consider the function $f(x)=xe^{-x^2}$ for $x\\in [−1,1]$ and the nodes $x_j=−1+j(2/10)$, $j=0,1,\\dots,10$. Use your codes in to evaluate $p_{10}(x)$ at the points $\\bar{x}_j = −1 + j(2/100)$, $j = 0, 1,\\dots,100$ and plot the error $f(x) − p_{10}(x)$."
   ]
  },
  {
   "cell_type": "code",
   "execution_count": 4,
   "metadata": {},
   "outputs": [
    {
     "data": {
      "image/png": "[encoded data removed]",
      "text/plain": [
       "<Figure size 432x288 with 1 Axes>"
      ]
     },
     "metadata": {
      "needs_background": "light"
     },
     "output_type": "display_data"
    }
   ],
   "source": [
    "xn = -1+np.arange(11)*2/10  # nodes\n",
    "yn = xn*np.exp(-xn**2)      # values\n",
    "cs = comp_ntcoefs(xn, yn)   # coeffs\n",
    "\n",
    "xbar = -1+np.arange(101)*2/100  # \\bar{x}\n",
    "    \n",
    "# value at test points\n",
    "ps = np.zeros_like(xbar)\n",
    "for i, x in enumerate(xbar):\n",
    "    ps[i] = ntinterp(x,xn,cs)\n",
    "\n",
    "# plot the curve of error\n",
    "plt.figure()\n",
    "plt.plot(xbar,xbar*np.exp(-xbar**2)-ps)\n",
    "plt.xlabel('x')\n",
    "plt.ylabel('error')\n",
    "plt.title('f(x)-p_{10}(x)')\n",
    "\n",
    "plt.show()"
   ]
  },
  {
   "cell_type": "markdown",
   "metadata": {},
   "source": [
    "# Problem 2"
   ]
  },
  {
   "cell_type": "markdown",
   "metadata": {},
   "source": [
    "The Hermite interpolation polynomial is\n",
    "$$\n",
    "P(x)=f(x_0)+f[x_0,x_0](x-x_0)+f[x_0,x_0,x_1](x-x_0)^2+f[x_0,x_0,x_1,x_1](x-x_0)^2(x-x_1)\n",
    "$$\n",
    "The coefficients are given by\n",
    "\n",
    "| $x$    | $f[x]$    | $f[x,y]$     |   $f[x,y,z]$    | $f[x,y,z,w]$            |\n",
    "| ------- | ---------- | -------------- | ------------------ | ----------------------- |\n",
    "| $x_0=0$ | $f[x_0]=0$ |                |                    |          |\n",
    "| $x_0=0$ | $f[x_0]=0$ | $f[x_0,x_0]=0$ |                    |              |\n",
    "| $x_1=1$ | $f[x_1]=2$ | $f[x_0,x_1]=2$ | $f[x_0,x_0,x_1]=2$ |                 |\n",
    "| $x_1=1$ | $f[x_1]=2$ | $f[x_1,x_1]=3$ | $f[x_0,x_1,x_1]=1$ | $f[x_0,x_0,x_1,x_1]=-1$ |\n",
    "\n",
    "Thus\n",
    "$$\n",
    "P(x)=2(x-0)^2-(x-0)^2(x-1)\n",
    "$$\n",
    "\n"
   ]
  },
  {
   "cell_type": "markdown",
   "metadata": {},
   "source": [
    "# Problem 3"
   ]
  },
  {
   "cell_type": "markdown",
   "metadata": {},
   "source": [
    "At each interval, the linear interpolation is given by\n",
    "$$\n",
    "p(x)=\\frac{2-2}{1-0}(x-0)+2=2, \\ x\\in[0,1)\n",
    "$$\n",
    "\n",
    "$$\n",
    "p(x)=\\frac{1-2}{2-1}(x-1)+2=-x+3, \\ x\\in[1,2)\n",
    "$$\n",
    "\n",
    "$$\n",
    "p(x)=\\frac{9-1}{3-2}(x-2)+1=8x-15, \\ x\\in[2,3]\n",
    "$$\n",
    "\n",
    "Thus a piecewise linear function is\n",
    "$$\n",
    "p(x)=\\left\\{\\begin{aligned}\n",
    "2, \\ x\\in[0,1) \\\\\n",
    "-x+3, \\ x\\in[1,2) \\\\\n",
    "8x-15, \\ x\\in[2,3]\n",
    "\\end{aligned}\\right.\n",
    "$$"
   ]
  },
  {
   "cell_type": "markdown",
   "metadata": {},
   "source": [
    "# Problem 4\n",
    "\n",
    "Write a code to compute a natural spline $S(x)$ which interpolates a collection of given points $(x_0, y_0), (x_1, y_1), \\dots, (x_n, y_n)$ where $x_0 < x_1 < \\dots < x_n$ (do not assume they are equidistributed). Your code should have a triadiagonal solver for the resulting linear system of equations."
   ]
  },
  {
   "cell_type": "code",
   "execution_count": 5,
   "metadata": {},
   "outputs": [],
   "source": [
    "# function to compute the coefficients of natural spline S(x)\n",
    "def comp_nsplcoefs(xn, yn):\n",
    "    \"\"\"\n",
    "    compute the coefficients of the interpolation polynomial \n",
    "    of the natural spline S(x).\n",
    "    \n",
    "    Args:\n",
    "        xn: nodes\n",
    "        yn: values at corresponding nodes  \n",
    "    Ret:\n",
    "        coefficients\n",
    "    \"\"\"\n",
    "    dxn = np.diff(xn)  # differencse of nodes\n",
    "    dyn = np.diff(yn)  # differences of values\n",
    "    \n",
    "    dn = np.zeros(len(xn))  # derivatives\n",
    "    dn[1:-1] = trisolve((dxn[1:-1], 2*(dxn[:-1]+dxn[1:]), dxn[1:-1]),\n",
    "                        np.diff(6*dyn/dxn))\n",
    "\n",
    "    cs = np.empty((len(xn), 4))\n",
    "    cs[:-1,0] = np.diff(dn)/(6*dxn)\n",
    "    cs[-1,0] = np.nan\n",
    "    cs[:,1] = dn/2\n",
    "    cs[:-1,2] = dyn/dxn-dxn*(dn[1:]+2*dn[:-1])/6\n",
    "    cs[-1,2] = np.nan\n",
    "    cs[:,3] = yn\n",
    "    \n",
    "    return cs\n",
    "\n",
    "# function to get the evaluation of the natural spline S(x)\n",
    "def nsplinterp(x, xn, cs):\n",
    "    \"\"\"\n",
    "    evaluate the interpolation polynomial of natural splines\n",
    "    at an arbitrary point x\n",
    "    \n",
    "    Args:\n",
    "        x: an arbitrary point\n",
    "        xn: nodes\n",
    "        cs: coefficients of natural splines S(x)\n",
    "    Ret:\n",
    "        value S(x)\n",
    "    \"\"\"\n",
    "    i = np.searchsorted(xn,x,'left')\n",
    "    if i > 0:\n",
    "        d = x-xn[i-1]\n",
    "        p = ((cs[i-1,0]*d+cs[i-1,1])*d+cs[i-1,2])*d+cs[i-1,3]\n",
    "    else:\n",
    "        p = cs[0,3]\n",
    "    return p\n",
    "\n",
    "# a tridiagonal solver\n",
    "def trisolve(diags, b):\n",
    "    \"\"\"\n",
    "    a tridiagonal solver for linear equation Ax = b\n",
    "    \n",
    "    Args:\n",
    "        dn: a list which contains three (-1, 0, 1) diagonals\n",
    "        b: vector\n",
    "    Ret:\n",
    "        solution\n",
    "    \"\"\"\n",
    "    dd, dm, du = np.array(diags[0]), np.array(diags[1]), np.array(diags[2])\n",
    "    \n",
    "    # solve this tridiagonal linear equation\n",
    "    for i in range(len(b)-1):\n",
    "        dd[i] = dd[i]/dm[i]\n",
    "        dm[i+1] = dm[i+1]-dd[i]*du[i]\n",
    "    x = np.copy(b)\n",
    "    for i in range(1,len(b)):\n",
    "        x[i] = x[i]-dd[i-1]*x[i-1]\n",
    "    x[len(b)-1] = x[len(b)-1]/dm[len(b)-1]\n",
    "    for i in range(len(b)-2,-1,-1):\n",
    "        x[i] = (x[i]-du[i]*x[i+1])/dm[i]\n",
    "    \n",
    "    return x"
   ]
  },
  {
   "cell_type": "markdown",
   "metadata": {},
   "source": [
    "# Problem 5\n",
    "\n",
    "Use the values in Table 1 to construct a smooth parametric representation of a curve passing through the points $(x_j, y_j)$, $j = 0, 1, \\dots ,8$ by finding the two natural cubic splines interpolating and $(t_j, y_j)$,$j = 0, 1,\\dots, 8$, respectively. Tabulate the coefficients of the splines and plot the resulting (parametric) curve."
   ]
  },
  {
   "cell_type": "code",
   "execution_count": 6,
   "metadata": {},
   "outputs": [
    {
     "name": "stdout",
     "output_type": "stream",
     "text": [
      "     $t$   $x$   $y$     $a_x$     $b_x$     $c_x$  $d_x$     $a_y$     $b_y$  \\\n",
      "0  0.000  1.50  0.75  0.010537  0.000000 -0.974898   1.50  0.276944  0.000000   \n",
      "1  0.618  0.90  0.90  0.102103  0.019535 -0.962825   0.90 -3.001012  0.513454   \n",
      "2  0.935  0.60  1.00  0.987167  0.116635 -0.919659   0.60  2.430450 -2.340509   \n",
      "3  1.255  0.35  0.80 -1.773549  1.064316 -0.541755   0.35 -0.273187 -0.007277   \n",
      "4  1.636  0.20  0.45  5.394568 -0.962851 -0.503097   0.20  2.173896 -0.319530   \n",
      "5  1.905  0.10  0.20 -3.393333  3.390566  0.149959   0.10 -0.784397  1.434804   \n",
      "6  2.317  0.50  0.10  0.670643 -0.803594  1.215791   0.50 -0.474226  0.465289   \n",
      "7  2.827  1.00  0.20 -0.147442  0.222490  0.919428   1.00  0.172483 -0.260277   \n",
      "8  3.330  1.50  0.25       NaN  0.000000       NaN   1.50       NaN  0.000000   \n",
      "\n",
      "      $c_y$  $d_y$  \n",
      "0  0.136947   0.75  \n",
      "1  0.454261   0.90  \n",
      "2 -0.124915   1.00  \n",
      "3 -0.876207   0.80  \n",
      "4 -1.000720   0.45  \n",
      "5 -0.700711   0.20  \n",
      "6  0.082127   0.10  \n",
      "7  0.186683   0.20  \n",
      "8       NaN   0.25  \n"
     ]
    },
    {
     "data": {
      "image/png": "[encoded data removed]",
      "text/plain": [
       "<Figure size 432x288 with 1 Axes>"
      ]
     },
     "metadata": {
      "needs_background": "light"
     },
     "output_type": "display_data"
    }
   ],
   "source": [
    "# load data\n",
    "data = np.array([\n",
    "[0, 1.5, 0.75],\n",
    "[0.618, 0.90, 0.90],\n",
    "[0.935, 0.60, 1.00],\n",
    "[1.255, 0.35, 0.80],\n",
    "[1.636, 0.20, 0.45],\n",
    "[1.905, 0.10, 0.20],\n",
    "[2.317, 0.50, 0.10],\n",
    "[2.827, 1.00, 0.20],\n",
    "[3.330, 1.50, 0.25]\n",
    "])\n",
    "\n",
    "# compute coefficients of S_x(t)\n",
    "cs_x = comp_nsplcoefs(data[:,0], data[:,1])\n",
    "\n",
    "# compute coefficients of S_y(t)\n",
    "cs_y = comp_nsplcoefs(data[:,0], data[:,2])\n",
    "\n",
    "# tabulate\n",
    "print(pd.DataFrame(np.hstack((data,cs_x,cs_y)),\n",
    "       columns=['$t$','$x$','$y$','$a_x$','$b_x$','$c_x$',\n",
    "                '$d_x$','$a_y$','$b_y$','$c_y$','$d_y$']))\n",
    "\n",
    "# plot the resulting (parametric) curve\n",
    "tbar = np.linspace(data[0,0],data[-1,0])\n",
    "ps_x = np.zeros_like(tbar)\n",
    "ps_y = np.zeros_like(tbar)\n",
    "for i, t in enumerate(tbar):\n",
    "    ps_x[i] = nsplinterp(t,data[:,0],cs_x)\n",
    "    ps_y[i] = nsplinterp(t,data[:,0],cs_y)\n",
    "\n",
    "# figure\n",
    "plt.figure()\n",
    "plt.plot(ps_x,ps_y)\n",
    "plt.plot(data[:,1],data[:,2],'o')\n",
    "plt.xlabel('x')\n",
    "plt.ylabel('y')\n",
    "plt.title('parameter curve')\n",
    "\n",
    "plt.show()"
   ]
  }
 ],
 "metadata": {
  "kernelspec": {
   "display_name": "Python 3",
   "language": "python",
   "name": "python3"
  },
  "language_info": {
   "codemirror_mode": {
    "name": "ipython",
    "version": 3
   },
   "file_extension": ".py",
   "mimetype": "text/x-python",
   "name": "python",
   "nbconvert_exporter": "python",
   "pygments_lexer": "ipython3",
   "version": "3.7.6"
  }
 },
 "nbformat": 4,
 "nbformat_minor": 4
}
