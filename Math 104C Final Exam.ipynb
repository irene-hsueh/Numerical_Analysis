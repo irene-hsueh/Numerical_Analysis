{
 "cells": [
  {
   "cell_type": "code",
   "execution_count": 14,
   "metadata": {},
   "outputs": [],
   "source": [
    "import numpy as np\n",
    "import math"
   ]
  },
  {
   "cell_type": "code",
   "execution_count": 15,
   "metadata": {},
   "outputs": [
    {
     "name": "stdout",
     "output_type": "stream",
     "text": [
      "x_j = \n",
      " [-3.141592653589793, -2.748893571891069, -2.356194490192345, -1.9634954084936207, -1.5707963267948966, -1.1780972450961724, -0.7853981633974483, -0.39269908169872414, 0.0, 0.39269908169872414, 0.7853981633974483, 1.1780972450961724, 1.5707963267948966, 1.9634954084936207, 2.356194490192345, 2.748893571891069]\n",
      "y_j = \n",
      " [14090.0, 14573.0, 14701.0, 15254.0, 14975.0, 15628.0, 14834.0, 15193.0, 15616.0, 16009.0, 16441.0, 15373.0, 16168.0, 16533.0, 16559.0, 16744.0]\n",
      "sum of y_j = 248691.0\n"
     ]
    }
   ],
   "source": [
    "j =[0.0,1.0,2.0,3.0,4.0,5.0,6.0,7.0,8.0,9.0,10.0,11.0,12.0,13.0,14.0,15.0] \n",
    "x_j = []\n",
    "for i in range(len(j)):\n",
    "    x = (math.pi/8)*(j[i]-8)\n",
    "    x_j += [x]\n",
    "print(\"x_j = \\n\", x_j)\n",
    "y_j = [14090.0, 14573.0,14701.0, 15254.0,14975.0,15628.0, 14834.0, 15193.0,15616.0,16009.0, 16441.0,15373.0, 16168.0,16533.0, 16559.0, 16744.0]\n",
    "print(\"y_j = \\n\", y_j) \n",
    "sumy_j = sum(y_j)\n",
    "print(\"sum of y_j =\", sumy_j)"
   ]
  },
  {
   "cell_type": "code",
   "execution_count": 17,
   "metadata": {},
   "outputs": [
    {
     "name": "stdout",
     "output_type": "stream",
     "text": [
      "[-1.0, -0.9238795325112867, -0.7071067811865475, -0.3826834323650897, 6.123233995736766e-17, 0.38268343236508984, 0.7071067811865476, 0.9238795325112867, 1.0, 0.9238795325112867, 0.7071067811865476, 0.38268343236508984, 6.123233995736766e-17, -0.3826834323650897, -0.7071067811865475, -0.9238795325112867]\n",
      "sum of x_j = 6.661338147750939e-16\n"
     ]
    }
   ],
   "source": [
    "cos_x_j = []\n",
    "for i in range(len(x_j)):\n",
    "    cosine = math.cos(x_j[i])\n",
    "    cos_x_j += [cosine]\n",
    "print (cos_x_j)\n"
   ]
  },
  {
   "cell_type": "code",
   "execution_count": 18,
   "metadata": {},
   "outputs": [
    {
     "name": "stdout",
     "output_type": "stream",
     "text": [
      "[-14090.0, -13463.69642728698, -10395.176790223435, -5837.453077297078, 9.169542908615807e-13, 5980.576681001624, 10489.221992121247, 14036.50173744398, 15616.0, 14790.387435973189, 11625.542589488028, 5882.992405748526, 9.900044724307203e-13, -6326.905187292028, -11708.98118966804, -15469.438892368986]\n",
      "sum of y_j * cos_x_j = 1129.5712776400487\n"
     ]
    }
   ],
   "source": [
    "y_j_cos_x_j_0 = y_j[0]*cos_x_j[0]\n",
    "y_j_cos_x_j_1 = y_j[1]*cos_x_j[1]\n",
    "y_j_cos_x_j_2 = y_j[2]*cos_x_j[2]\n",
    "y_j_cos_x_j_3 = y_j[3]*cos_x_j[3]\n",
    "y_j_cos_x_j_4 = y_j[4]*cos_x_j[4]\n",
    "y_j_cos_x_j_5 = y_j[5]*cos_x_j[5]\n",
    "y_j_cos_x_j_6 = y_j[6]*cos_x_j[6]\n",
    "y_j_cos_x_j_7 = y_j[7]*cos_x_j[7]\n",
    "y_j_cos_x_j_8 = y_j[8]*cos_x_j[8]\n",
    "y_j_cos_x_j_9 = y_j[9]*cos_x_j[9]\n",
    "y_j_cos_x_j_10 = y_j[10]*cos_x_j[10]\n",
    "y_j_cos_x_j_11 = y_j[11]*cos_x_j[11]\n",
    "y_j_cos_x_j_12 = y_j[12]*cos_x_j[12]\n",
    "y_j_cos_x_j_13 = y_j[13]*cos_x_j[13]\n",
    "y_j_cos_x_j_14 = y_j[14]*cos_x_j[14]\n",
    "y_j_cos_x_j_15 = y_j[15]*cos_x_j[15]\n",
    "y_j_cos_x_j = []\n",
    "y_j_cos_x_j.extend([y_j_cos_x_j_0,y_j_cos_x_j_1,y_j_cos_x_j_2,\n",
    "                    y_j_cos_x_j_3,y_j_cos_x_j_4,y_j_cos_x_j_5,\n",
    "                    y_j_cos_x_j_6,y_j_cos_x_j_7,y_j_cos_x_j_8, \n",
    "                    y_j_cos_x_j_9, y_j_cos_x_j_10, y_j_cos_x_j_11,\n",
    "                    y_j_cos_x_j_12, y_j_cos_x_j_13, y_j_cos_x_j_14,\n",
    "                    y_j_cos_x_j_15])\n",
    "y_j_cos_x_j\n",
    "print(y_j_cos_x_j)\n",
    "sumy_j_cos_x_j = sum(y_j_cos_x_j)\n",
    "print(\"sum of y_j * cos_x_j =\", sumy_j_cos_x_j )"
   ]
  },
  {
   "cell_type": "code",
   "execution_count": 19,
   "metadata": {},
   "outputs": [
    {
     "name": "stdout",
     "output_type": "stream",
     "text": [
      "[1.0, 0.7071067811865475, -1.8369701987210297e-16, -0.7071067811865477, -1.0, -0.7071067811865475, 6.123233995736766e-17, 0.7071067811865476, 1.0, 0.7071067811865476, 6.123233995736766e-17, -0.7071067811865475, -1.0, -0.7071067811865477, -1.8369701987210297e-16, 0.7071067811865475]\n"
     ]
    },
    {
     "data": {
      "text/plain": [
       "-4.440892098500626e-16"
      ]
     },
     "execution_count": 19,
     "metadata": {},
     "output_type": "execute_result"
    }
   ],
   "source": [
    "cos_2_x_j = []\n",
    "for i in range(len(x_j)):\n",
    "    cosine_2x = math.cos(2*x_j[i])\n",
    "    cos_2_x_j += [cosine_2x]\n",
    "print (cos_2_x_j)\n"
   ]
  },
  {
   "cell_type": "code",
   "execution_count": 21,
   "metadata": {},
   "outputs": [
    {
     "name": "stdout",
     "output_type": "stream",
     "text": [
      "[14090.0, 10304.667122231556, -2.7005298891397857e-12, -10786.206840219598, -14975.0, -11050.664776383364, 9.083205309275918e-13, 10743.073326567217, 15616.0, 11320.07246001544, 1.0067209012390817e-12, -10870.352547180793, -16168.0, -11690.596413357192, -3.041838952062153e-12, 11839.79594418755]\n",
      "sum of y_j * cos_2_x_j = -1627.2117241391934\n"
     ]
    }
   ],
   "source": [
    "y_j_cos_2_x_j_0 = y_j[0]*cos_2_x_j[0]\n",
    "y_j_cos_2_x_j_1 = y_j[1]*cos_2_x_j[1] \n",
    "y_j_cos_2_x_j_2 = y_j[2]*cos_2_x_j[2] \n",
    "y_j_cos_2_x_j_3 = y_j[3]*cos_2_x_j[3] \n",
    "y_j_cos_2_x_j_4 = y_j[4]*cos_2_x_j[4] \n",
    "y_j_cos_2_x_j_5 = y_j[5]*cos_2_x_j[5] \n",
    "y_j_cos_2_x_j_6 = y_j[6]*cos_2_x_j[6] \n",
    "y_j_cos_2_x_j_7 = y_j[7]*cos_2_x_j[7] \n",
    "y_j_cos_2_x_j_8 = y_j[8]*cos_2_x_j[8] \n",
    "y_j_cos_2_x_j_9 = y_j[9]*cos_2_x_j[9] \n",
    "y_j_cos_2_x_j_10 = y_j[10]*cos_2_x_j[10] \n",
    "y_j_cos_2_x_j_11 = y_j[11]*cos_2_x_j[11] \n",
    "y_j_cos_2_x_j_12 = y_j[12]*cos_2_x_j[12] \n",
    "y_j_cos_2_x_j_13 = y_j[13]*cos_2_x_j[13] \n",
    "y_j_cos_2_x_j_14 = y_j[14]*cos_2_x_j[14] \n",
    "y_j_cos_2_x_j_15 = y_j[15]*cos_2_x_j[15] \n",
    "y_j_cos_2_x_j = []\n",
    "y_j_cos_2_x_j.extend([y_j_cos_2_x_j_0,y_j_cos_2_x_j_1,y_j_cos_2_x_j_2,\n",
    "                      y_j_cos_2_x_j_3,y_j_cos_2_x_j_4,y_j_cos_2_x_j_5,\n",
    "                      y_j_cos_2_x_j_6,y_j_cos_2_x_j_7,y_j_cos_2_x_j_8,\n",
    "                      y_j_cos_2_x_j_9, y_j_cos_2_x_j_10, y_j_cos_2_x_j_11, \n",
    "                      y_j_cos_2_x_j_12,y_j_cos_2_x_j_13, y_j_cos_2_x_j_14, \n",
    "                      y_j_cos_2_x_j_15])\n",
    "\n",
    "y_j_cos_2_x_j\n",
    "print(y_j_cos_2_x_j)\n",
    "sumy_j_cos_2_x_j = sum(y_j_cos_2_x_j)\n",
    "print(\"sum of y_j * cos_2_x_j =\", sumy_j_cos_2_x_j )"
   ]
  },
  {
   "cell_type": "code",
   "execution_count": 23,
   "metadata": {},
   "outputs": [
    {
     "name": "stdout",
     "output_type": "stream",
     "text": [
      "[-1.0, -0.38268343236508984, 0.7071067811865477, 0.9238795325112865, -1.8369701987210297e-16, -0.9238795325112867, -0.7071067811865475, 0.38268343236508984, 1.0, 0.38268343236508984, -0.7071067811865475, -0.9238795325112867, -1.8369701987210297e-16, 0.9238795325112865, 0.7071067811865477, -0.38268343236508984]\n"
     ]
    }
   ],
   "source": [
    "cos_3_x_j = []\n",
    "for i in range(len(x_j)):\n",
    "    cosine_3x = math.cos(3*x_j[i])\n",
    "    cos_3_x_j += [cosine_3x]\n",
    "print (cos_3_x_j)\n"
   ]
  },
  {
   "cell_type": "code",
   "execution_count": 25,
   "metadata": {},
   "outputs": [
    {
     "name": "stdout",
     "output_type": "stream",
     "text": [
      "[-14090.0, -5576.845659856454, 10395.176790223437, 14092.858388927165, -2.750862872584742e-12, -14438.389334086389, -10489.221992121245, 5814.10938792281, 15616.0, 6126.379068732723, -11625.542589488026, -14202.80005329601, -2.9700134172921608e-12, 15274.5003110091, 11708.981189668044, -6407.651391521064]\n",
      "sum of y_j * cos_3_x_j = 2197.55411611408\n"
     ]
    }
   ],
   "source": [
    "y_j_cos_3_x_j_0 = y_j[0]*cos_3_x_j[0] \n",
    "y_j_cos_3_x_j_1 = y_j[1]*cos_3_x_j[1] \n",
    "y_j_cos_3_x_j_2 = y_j[2]*cos_3_x_j[2] \n",
    "y_j_cos_3_x_j_3 = y_j[3]*cos_3_x_j[3] \n",
    "y_j_cos_3_x_j_4 = y_j[4]*cos_3_x_j[4] \n",
    "y_j_cos_3_x_j_5 = y_j[5]*cos_3_x_j[5] \n",
    "y_j_cos_3_x_j_6 = y_j[6]*cos_3_x_j[6] \n",
    "y_j_cos_3_x_j_7 = y_j[7]*cos_3_x_j[7] \n",
    "y_j_cos_3_x_j_8 = y_j[8]*cos_3_x_j[8] \n",
    "y_j_cos_3_x_j_9 = y_j[9]*cos_3_x_j[9] \n",
    "y_j_cos_3_x_j_10 = y_j[10]*cos_3_x_j[10] \n",
    "y_j_cos_3_x_j_11 = y_j[11]*cos_3_x_j[11] \n",
    "y_j_cos_3_x_j_12 = y_j[12]*cos_3_x_j[12] \n",
    "y_j_cos_3_x_j_13 = y_j[13]*cos_3_x_j[13] \n",
    "y_j_cos_3_x_j_14 = y_j[14]*cos_3_x_j[14] \n",
    "y_j_cos_3_x_j_15 = y_j[15]*cos_3_x_j[15] \n",
    "y_j_cos_3_x_j = []\n",
    "y_j_cos_3_x_j.extend([y_j_cos_3_x_j_0,y_j_cos_3_x_j_1,y_j_cos_3_x_j_2,\n",
    "                     y_j_cos_3_x_j_3,y_j_cos_3_x_j_4,y_j_cos_3_x_j_5,\n",
    "                     y_j_cos_3_x_j_6,y_j_cos_3_x_j_7,y_j_cos_3_x_j_8,\n",
    "                     y_j_cos_3_x_j_9, y_j_cos_3_x_j_10, y_j_cos_3_x_j_11, \n",
    "                     y_j_cos_3_x_j_12,y_j_cos_3_x_j_13, y_j_cos_3_x_j_14, \n",
    "                     y_j_cos_3_x_j_15])\n",
    "y_j_cos_3_x_j\n",
    "print(y_j_cos_3_x_j)\n",
    "sumy_j_cos_3_x_j = sum(y_j_cos_3_x_j)\n",
    "print(\"sum of y_j * cos_3_x_j =\", sumy_j_cos_3_x_j )"
   ]
  },
  {
   "cell_type": "code",
   "execution_count": 26,
   "metadata": {},
   "outputs": [
    {
     "name": "stdout",
     "output_type": "stream",
     "text": [
      "[1.0, -4.286263797015736e-16, -1.0, 3.061616997868383e-16, 1.0, -1.8369701987210297e-16, -1.0, 6.123233995736766e-17, 1.0, 6.123233995736766e-17, -1.0, -1.8369701987210297e-16, 1.0, 3.061616997868383e-16, -1.0, -4.286263797015736e-16]\n"
     ]
    }
   ],
   "source": [
    " cos_4_x_j = []\n",
    "for i in range(len(x_j)):\n",
    "    cosine_4x = math.cos(4*x_j[i])\n",
    "    cos_4_x_j += [cosine_4x]\n",
    "print (cos_4_x_j)\n"
   ]
  },
  {
   "cell_type": "code",
   "execution_count": 27,
   "metadata": {},
   "outputs": [
    {
     "name": "stdout",
     "output_type": "stream",
     "text": [
      "[14090.0, -6.246372231391032e-12, -14701.0, 4.670190568548432e-12, 14975.0, -2.870817026561225e-12, -14834.0, 9.303029409722868e-13, 15616.0, 9.80268530377499e-13, -16441.0, -2.8239742864938388e-12, 16168.0, 5.061771382575798e-12, -16559.0, -7.176920101723149e-12]\n",
      "sum of y_j * cos_4_x_j = -1686.0000000000055\n"
     ]
    }
   ],
   "source": [
    "y_j_cos_4_x_j_0 = y_j[0]*cos_4_x_j[0]\n",
    "y_j_cos_4_x_j_1 = y_j[1]*cos_4_x_j[1]\n",
    "y_j_cos_4_x_j_2 = y_j[2]*cos_4_x_j[2]\n",
    "y_j_cos_4_x_j_3 = y_j[3]*cos_4_x_j[3]\n",
    "y_j_cos_4_x_j_4 = y_j[4]*cos_4_x_j[4]\n",
    "y_j_cos_4_x_j_5 = y_j[5]*cos_4_x_j[5]\n",
    "y_j_cos_4_x_j_6 = y_j[6]*cos_4_x_j[6]\n",
    "y_j_cos_4_x_j_7 = y_j[7]*cos_4_x_j[7]\n",
    "y_j_cos_4_x_j_8 = y_j[8]*cos_4_x_j[8]\n",
    "y_j_cos_4_x_j_9 = y_j[9]*cos_4_x_j[9]\n",
    "y_j_cos_4_x_j_10 = y_j[10]*cos_4_x_j[10]\n",
    "y_j_cos_4_x_j_11 = y_j[11]*cos_4_x_j[11]\n",
    "y_j_cos_4_x_j_12 = y_j[12]*cos_4_x_j[12]\n",
    "y_j_cos_4_x_j_13 = y_j[13]*cos_4_x_j[13]\n",
    "y_j_cos_4_x_j_14 = y_j[14]*cos_4_x_j[14]\n",
    "y_j_cos_4_x_j_15 = y_j[15]*cos_4_x_j[15]\n",
    "y_j_cos_4_x_j = []\n",
    "y_j_cos_4_x_j.extend([y_j_cos_4_x_j_0,y_j_cos_4_x_j_1,y_j_cos_4_x_j_2,\n",
    "                      y_j_cos_4_x_j_3,y_j_cos_4_x_j_4,y_j_cos_4_x_j_5,\n",
    "                      y_j_cos_4_x_j_6,y_j_cos_4_x_j_7,y_j_cos_4_x_j_8,\n",
    "                      y_j_cos_4_x_j_9,y_j_cos_4_x_j_10, y_j_cos_4_x_j_11, \n",
    "                      y_j_cos_4_x_j_12,y_j_cos_4_x_j_13, y_j_cos_4_x_j_14,\n",
    "                      y_j_cos_4_x_j_15])\n",
    "y_j_cos_4_x_j\n",
    "print(y_j_cos_4_x_j)\n",
    "sumy_j_cos_4_x_j = sum(y_j_cos_4_x_j)\n",
    "print(\"sum of y_j * cos_4_x_j =\", sumy_j_cos_4_x_j )"
   ]
  },
  {
   "cell_type": "code",
   "execution_count": 28,
   "metadata": {},
   "outputs": [
    {
     "name": "stdout",
     "output_type": "stream",
     "text": [
      "a_0 =  31086.375\n",
      "a_1 =  141.1964097050061\n",
      "a_2 =  -203.40146551739917\n",
      "a_3 =  274.69426451426\n",
      "a_4 =  -210.75000000000068\n"
     ]
    }
   ],
   "source": [
    "m=8\n",
    "a_0 = sumy_j /m\n",
    "print('a_0 = ',a_0)\n",
    "a_1 = sumy_j_cos_x_j /m\n",
    "print('a_1 = ',a_1)\n",
    "a_2 = sumy_j_cos_2_x_j /m\n",
    "print('a_2 = ',a_2)\n",
    "a_3 = sumy_j_cos_3_x_j /m\n",
    "print('a_3 = ',a_3)\n",
    "a_4 = sumy_j_cos_4_x_j /m\n",
    "print('a_4 = ',a_4)"
   ]
  },
  {
   "cell_type": "code",
   "execution_count": 29,
   "metadata": {},
   "outputs": [
    {
     "name": "stdout",
     "output_type": "stream",
     "text": [
      "[-1.2246467991473532e-16, -0.38268343236508984, -0.7071067811865476, -0.9238795325112867, -1.0, -0.9238795325112867, -0.7071067811865475, -0.3826834323650898, 0.0, 0.3826834323650898, 0.7071067811865475, 0.9238795325112867, 1.0, 0.9238795325112867, 0.7071067811865476, 0.38268343236508984]\n"
     ]
    }
   ],
   "source": [
    "sin_x_j = []\n",
    "for i in range(len(x_j)):\n",
    "    sine_x = math.sin(x_j[i])\n",
    "    sin_x_j += [sine_x]\n",
    "print (sin_x_j)"
   ]
  },
  {
   "cell_type": "code",
   "execution_count": 32,
   "metadata": {},
   "outputs": [
    {
     "name": "stdout",
     "output_type": "stream",
     "text": [
      "[-1.7255273399986207e-12, -5576.845659856454, -10395.176790223435, -14092.858388927169, -14975.0, -14438.389334086389, -10489.221992121245, -5814.109387922809, 0.0, 6126.379068732722, 11625.542589488026, 14202.80005329601, 16168.0, 15274.500311009104, 11708.981189668042, 6407.651391521064]\n",
      "sum of y_j * sin_x_j = 5732.253050577453\n"
     ]
    }
   ],
   "source": [
    "y_j_sin_x_j_0 = y_j[0]*sin_x_j[0]\n",
    "y_j_sin_x_j_1 = y_j[1]*sin_x_j[1]\n",
    "y_j_sin_x_j_2 = y_j[2]*sin_x_j[2]\n",
    "y_j_sin_x_j_3 = y_j[3]*sin_x_j[3]\n",
    "y_j_sin_x_j_4 = y_j[4]*sin_x_j[4]\n",
    "y_j_sin_x_j_5 = y_j[5]*sin_x_j[5]\n",
    "y_j_sin_x_j_6 = y_j[6]*sin_x_j[6]\n",
    "y_j_sin_x_j_7 = y_j[7]*sin_x_j[7]\n",
    "y_j_sin_x_j_8 = y_j[8]*sin_x_j[8]\n",
    "y_j_sin_x_j_9 = y_j[9]*sin_x_j[9]\n",
    "y_j_sin_x_j_10 = y_j[10]*sin_x_j[10]\n",
    "y_j_sin_x_j_11 = y_j[11]*sin_x_j[11]\n",
    "y_j_sin_x_j_12 = y_j[12]*sin_x_j[12]\n",
    "y_j_sin_x_j_13 = y_j[13]*sin_x_j[13]\n",
    "y_j_sin_x_j_14 = y_j[14]*sin_x_j[14]\n",
    "y_j_sin_x_j_15 = y_j[15]*sin_x_j[15]\n",
    "y_j_sin_x_j = []\n",
    "y_j_sin_x_j.extend([y_j_sin_x_j_0,y_j_sin_x_j_1,y_j_sin_x_j_2,\n",
    "                    y_j_sin_x_j_3,y_j_sin_x_j_4, y_j_sin_x_j_5,\n",
    "                    y_j_sin_x_j_6,y_j_sin_x_j_7,y_j_sin_x_j_8,\n",
    "                    y_j_sin_x_j_9,y_j_sin_x_j_10, y_j_sin_x_j_11,\n",
    "                    y_j_sin_x_j_12,y_j_sin_x_j_13,y_j_sin_x_j_14,\n",
    "                    y_j_sin_x_j_15]) \n",
    "y_j_sin_x_j\n",
    "print(y_j_sin_x_j)\n",
    "sumy_j_sin_x_j = sum(y_j_sin_x_j)\n",
    "print(\"sum of y_j * sin_x_j =\", sumy_j_sin_x_j )"
   ]
  },
  {
   "cell_type": "code",
   "execution_count": 33,
   "metadata": {},
   "outputs": [
    {
     "name": "stdout",
     "output_type": "stream",
     "text": [
      "[2.4492935982947064e-16, 0.7071067811865477, 1.0, 0.7071067811865475, -1.2246467991473532e-16, -0.7071067811865476, -1.0, -0.7071067811865475, 0.0, 0.7071067811865475, 1.0, 0.7071067811865476, 1.2246467991473532e-16, -0.7071067811865475, -1.0, -0.7071067811865477]\n"
     ]
    }
   ],
   "source": [
    "sin_2_x_j = []\n",
    "for i in range(len(x_j)):\n",
    "    sine_2_x = math.sin(2*x_j[i])\n",
    "    sin_2_x_j += [sine_2_x]\n",
    "print (sin_2_x_j)\n"
   ]
  },
  {
   "cell_type": "code",
   "execution_count": 34,
   "metadata": {},
   "outputs": [
    {
     "name": "stdout",
     "output_type": "stream",
     "text": [
      "[3.4510546799972414e-12, 10304.66712223156, 14701.0, 10786.206840219595, -1.8339085817231614e-12, -11050.664776383366, -14834.0, -10743.073326567215, 0.0, 11320.072460015439, 16441.0, 10870.352547180795, 1.9800089448614405e-12, -11690.596413357189, -16559.0, -11839.795944187554]\n",
      "sum of y_j * sin_2_x_j = -2293.8314908479333\n"
     ]
    }
   ],
   "source": [
    "y_j_sin_2_x_j_0 = y_j[0]*sin_2_x_j[0]\n",
    "y_j_sin_2_x_j_1 = y_j[1]*sin_2_x_j[1]\n",
    "y_j_sin_2_x_j_2 = y_j[2]*sin_2_x_j[2]\n",
    "y_j_sin_2_x_j_3 = y_j[3]*sin_2_x_j[3]\n",
    "y_j_sin_2_x_j_4 = y_j[4]*sin_2_x_j[4]\n",
    "y_j_sin_2_x_j_5 = y_j[5]*sin_2_x_j[5]\n",
    "y_j_sin_2_x_j_6 = y_j[6]*sin_2_x_j[6]\n",
    "y_j_sin_2_x_j_7 = y_j[7]*sin_2_x_j[7]\n",
    "y_j_sin_2_x_j_8 = y_j[8]*sin_2_x_j[8]\n",
    "y_j_sin_2_x_j_9 = y_j[9]*sin_2_x_j[9]\n",
    "y_j_sin_2_x_j_10 = y_j[10]*sin_2_x_j[10]\n",
    "y_j_sin_2_x_j_11 = y_j[11]*sin_2_x_j[11]\n",
    "y_j_sin_2_x_j_12 = y_j[12]*sin_2_x_j[12]\n",
    "y_j_sin_2_x_j_13 = y_j[13]*sin_2_x_j[13]\n",
    "y_j_sin_2_x_j_14 = y_j[14]*sin_2_x_j[14]\n",
    "y_j_sin_2_x_j_15 = y_j[15]*sin_2_x_j[15]\n",
    "y_j_sin_2_x_j = []\n",
    "y_j_sin_2_x_j.extend([y_j_sin_2_x_j_0,y_j_sin_2_x_j_1,y_j_sin_2_x_j_2,\n",
    "                      y_j_sin_2_x_j_3,y_j_sin_2_x_j_4, y_j_sin_2_x_j_5,\n",
    "                      y_j_sin_2_x_j_6,y_j_sin_2_x_j_7,y_j_sin_2_x_j_8,\n",
    "                      y_j_sin_2_x_j_9, y_j_sin_2_x_j_10,y_j_sin_2_x_j_11,\n",
    "                      y_j_sin_2_x_j_12,y_j_sin_2_x_j_13,y_j_sin_2_x_j_14, \n",
    "                      y_j_sin_2_x_j_15])\n",
    "y_j_sin_2_x_j\n",
    "print(y_j_sin_2_x_j)\n",
    "sumy_j_sin_2_x_j = sum(y_j_sin_2_x_j)\n",
    "print(\"sum of y_j * sin_2_x_j =\", sumy_j_sin_2_x_j )"
   ]
  },
  {
   "cell_type": "code",
   "execution_count": 35,
   "metadata": {},
   "outputs": [
    {
     "name": "stdout",
     "output_type": "stream",
     "text": [
      "[-3.6739403974420594e-16, -0.9238795325112867, -0.7071067811865474, 0.3826834323650904, 1.0, 0.38268343236508967, -0.7071067811865476, -0.9238795325112867, 0.0, 0.9238795325112867, 0.7071067811865476, -0.38268343236508967, -1.0, -0.3826834323650904, 0.7071067811865474, 0.9238795325112867]\n"
     ]
    }
   ],
   "source": [
    "sin_3_x_j = []\n",
    "for i in range(len(x_j)):\n",
    "    sine_3_x = math.sin(3*x_j[i])\n",
    "    sin_3_x_j += [sine_3_x]\n",
    "print (sin_3_x_j)\n"
   ]
  },
  {
   "cell_type": "code",
   "execution_count": 36,
   "metadata": {},
   "outputs": [
    {
     "name": "stdout",
     "output_type": "stream",
     "text": [
      "[-5.1765820199958615e-12, -13463.69642728698, -10395.176790223433, 5837.453077297089, 14975.0, 5980.576681001621, -10489.221992121247, -14036.50173744398, 0.0, 14790.387435973189, 11625.542589488028, -5882.992405748523, -16168.0, -6326.905187292039, 11708.981189668037, 15469.438892368986]\n",
      "sum of y_j * sin_3_x_j = 3624.8853256807433\n"
     ]
    }
   ],
   "source": [
    "y_j_sin_3_x_j_0 = y_j[0]*sin_3_x_j[0]\n",
    "y_j_sin_3_x_j_1 = y_j[1]*sin_3_x_j[1]\n",
    "y_j_sin_3_x_j_2 = y_j[2]*sin_3_x_j[2]\n",
    "y_j_sin_3_x_j_3 = y_j[3]*sin_3_x_j[3]\n",
    "y_j_sin_3_x_j_4 = y_j[4]*sin_3_x_j[4]\n",
    "y_j_sin_3_x_j_5 = y_j[5]*sin_3_x_j[5]\n",
    "y_j_sin_3_x_j_6 = y_j[6]*sin_3_x_j[6]\n",
    "y_j_sin_3_x_j_7 = y_j[7]*sin_3_x_j[7]\n",
    "y_j_sin_3_x_j_8 = y_j[8]*sin_3_x_j[8]\n",
    "y_j_sin_3_x_j_9 = y_j[9]*sin_3_x_j[9]\n",
    "y_j_sin_3_x_j_10 = y_j[10]*sin_3_x_j[10]\n",
    "y_j_sin_3_x_j_11 = y_j[11]*sin_3_x_j[11]\n",
    "y_j_sin_3_x_j_12 = y_j[12]*sin_3_x_j[12]\n",
    "y_j_sin_3_x_j_13 = y_j[13]*sin_3_x_j[13]\n",
    "y_j_sin_3_x_j_14 = y_j[14]*sin_3_x_j[14]\n",
    "y_j_sin_3_x_j_15 = y_j[15]*sin_3_x_j[15]\n",
    "y_j_sin_3_x_j = []\n",
    "y_j_sin_3_x_j.extend([y_j_sin_3_x_j_0,y_j_sin_3_x_j_1,y_j_sin_3_x_j_2,\n",
    "                      y_j_sin_3_x_j_3,y_j_sin_3_x_j_4, y_j_sin_3_x_j_5,\n",
    "                      y_j_sin_3_x_j_6,y_j_sin_3_x_j_7,y_j_sin_3_x_j_8,\n",
    "                      y_j_sin_3_x_j_9, y_j_sin_3_x_j_10,y_j_sin_3_x_j_11,\n",
    "                      y_j_sin_3_x_j_12,y_j_sin_3_x_j_13,y_j_sin_3_x_j_14, \n",
    "                      y_j_sin_3_x_j_15])\n",
    "y_j_sin_3_x_j\n",
    "print(y_j_sin_3_x_j)\n",
    "sumy_j_sin_3_x_j = sum(y_j_sin_3_x_j)\n",
    "print(\"sum of y_j * sin_3_x_j =\", sumy_j_sin_3_x_j )"
   ]
  },
  {
   "cell_type": "code",
   "execution_count": 37,
   "metadata": {},
   "outputs": [
    {
     "name": "stdout",
     "output_type": "stream",
     "text": [
      "b_1 =  716.5316313221816\n",
      "b_2 =  -286.72893635599166\n",
      "b_3 =  453.1106657100929\n"
     ]
    }
   ],
   "source": [
    "m=8\n",
    "b_1 = sumy_j_sin_x_j  /m\n",
    "print('b_1 = ',b_1)\n",
    "b_2 = sumy_j_sin_2_x_j /m\n",
    "print('b_2 = ',b_2)\n",
    "b_3 = sumy_j_sin_3_x_j /m\n",
    "print('b_3 = ',b_3)"
   ]
  },
  {
   "cell_type": "markdown",
   "metadata": {},
   "source": [
    "A)"
   ]
  },
  {
   "cell_type": "markdown",
   "metadata": {},
   "source": [
    "Thus,\n",
    "\\begin{aligned}\n",
    "S_{4}(x)=& 16.532 \\sin \\left(x_{j}\\right)-286.729 \\sin \\left(2 x_{j}\\right)+453.111 \\sin \\left(3 x_{j}\\right) \\\\\n",
    "&+141.196 \\cos (x)-203.401 \\cos \\left(2 x_{j}\\right)+274.694 \\cos \\left(3 x_{j}\\right)-210.75 \\cos \\left(4 x_{j}\\right)+15543.2\n",
    "\\end{aligned}"
   ]
  },
  {
   "cell_type": "markdown",
   "metadata": {},
   "source": [
    "Since $x_{j}=\\frac{\\pi}{8}(x-8)$"
   ]
  },
  {
   "cell_type": "markdown",
   "metadata": {},
   "source": [
    "\\begin{aligned}\n",
    "S_{4}(x)=&-286.729 \\sin \\left(\\frac{1}{4} \\pi(x-8)\\right)+\\\\\n",
    "& 716.532 \\sin \\left(\\frac{1}{8} \\pi(x-8)\\right)+453.111 \\sin \\left(\\frac{3}{8} \\pi(x-8)\\right)-210.75 \\cos \\left(\\frac{1}{2} \\pi(x-8)\\right) \\\\\n",
    "&-203.401 \\cos \\left(\\frac{1}{4} \\pi(x-8)\\right)+141.196 \\cos \\left(\\frac{1}{8} \\pi(x-8)\\right) \\\\\n",
    "&+274.694 \\cos \\left(\\frac{3}{8} \\pi(x-8)\\right)+15543.2\n",
    "\\end{aligned}"
   ]
  },
  {
   "cell_type": "markdown",
   "metadata": {},
   "source": [
    "B)"
   ]
  },
  {
   "cell_type": "markdown",
   "metadata": {},
   "source": [
    "\\begin{array}{l}\n",
    "04 / 08 / 2013: x=1+\\frac{8}{30}=1.267 \\\\\n",
    "04 / 08 / 2014: x=13+\\frac{8}{30}=13.267\n",
    "\\end{array}"
   ]
  },
  {
   "cell_type": "code",
   "execution_count": 44,
   "metadata": {},
   "outputs": [],
   "source": [
    "S_4 = 15543.2-286.729*math.sin((1/4)*math.pi*(x-8))+716.532*math.sin((1/8)*math.pi*(x-8))+453.111*math.sin((3/8)*math.pi*(x-8))-210.75*math.cos((1/2)*math.pi*(x-8))-203.401*math.cos((1/4)*math.pi*(x-8))+141.196*math.cos((1/8)*math.pi*(x-8))+274.694*math.cos((3/8)*math.pi*(x-8))\n",
    "x_1 = 1+(8/30)\n",
    "x_2 = 12+(8/30)"
   ]
  },
  {
   "cell_type": "code",
   "execution_count": 45,
   "metadata": {},
   "outputs": [
    {
     "data": {
      "text/plain": [
       "14338.417015197938"
      ]
     },
     "execution_count": 45,
     "metadata": {},
     "output_type": "execute_result"
    }
   ],
   "source": [
    "S_4_13 = 15543.2-286.729*math.sin((1/4)*math.pi*((x_1)-8))+716.532*math.sin((1/8)*math.pi*((x_1)-8))+453.111*math.sin((3/8)*math.pi*((x_1)-8))-210.75*math.cos((1/2)*math.pi*((x_1)-8))-203.401*math.cos((1/4)*math.pi*((x_1-8)))+141.196*math.cos((1/8)*math.pi*((x_1)-8))+274.694*math.cos((3/8)*math.pi*((x_1)-8))\n",
    "S_4_13"
   ]
  },
  {
   "cell_type": "code",
   "execution_count": 46,
   "metadata": {},
   "outputs": [
    {
     "data": {
      "text/plain": [
       "16781.01709047483"
      ]
     },
     "execution_count": 46,
     "metadata": {},
     "output_type": "execute_result"
    }
   ],
   "source": [
    "S_4_14 = 15543.2-286.729*math.sin((1/4)*math.pi*((13.267)-8))+716.532*math.sin((1/8)*math.pi*((13.267)-8))+453.111*math.sin((3/8)*math.pi*((13.267)-8))-210.75*math.cos((1/2)*math.pi*((13.267)-8))-203.401*math.cos((1/4)*math.pi*((13.267-8)))+141.196*math.cos((1/8)*math.pi*((13.267)-8))+274.694*math.cos((3/8)*math.pi*((13.267)-8))\n",
    "S_4_14"
   ]
  },
  {
   "cell_type": "markdown",
   "metadata": {},
   "source": [
    "$S_{4}(1.27)=14338.4170 \\text { and } S_{4}(13.27)=16781.01709$"
   ]
  },
  {
   "cell_type": "markdown",
   "metadata": {},
   "source": [
    "C)"
   ]
  },
  {
   "cell_type": "markdown",
   "metadata": {},
   "source": [
    "4/8/2013:\n"
   ]
  },
  {
   "cell_type": "code",
   "execution_count": 47,
   "metadata": {},
   "outputs": [
    {
     "data": {
      "text/plain": [
       "0.018790322657907282"
      ]
     },
     "execution_count": 47,
     "metadata": {},
     "output_type": "execute_result"
    }
   ],
   "source": [
    "error_percentage1 = (14613 - 14338.417015)/14613\n",
    "error_percentage1"
   ]
  },
  {
   "cell_type": "markdown",
   "metadata": {},
   "source": [
    "4/8/2014:"
   ]
  },
  {
   "cell_type": "code",
   "execution_count": 48,
   "metadata": {},
   "outputs": [
    {
     "data": {
      "text/plain": [
       "0.032296819020669366"
      ]
     },
     "execution_count": 48,
     "metadata": {},
     "output_type": "execute_result"
    }
   ],
   "source": [
    "error_percentage2 = abs(16256 - 16781.01709)/16256\n",
    "error_percentage2"
   ]
  },
  {
   "cell_type": "markdown",
   "metadata": {},
   "source": [
    "\\begin{array}{l}\n",
    "\\text { 4/8/2013: Error 1.879% } \\\\\n",
    "\\text { 4/8/2014: Error 3.22% }\n",
    "\\end{array}"
   ]
  },
  {
   "cell_type": "code",
   "execution_count": null,
   "metadata": {},
   "outputs": [],
   "source": []
  }
 ],
 "metadata": {
  "kernelspec": {
   "display_name": "Python 3",
   "language": "python",
   "name": "python3"
  },
  "language_info": {
   "codemirror_mode": {
    "name": "ipython",
    "version": 3
   },
   "file_extension": ".py",
   "mimetype": "text/x-python",
   "name": "python",
   "nbconvert_exporter": "python",
   "pygments_lexer": "ipython3",
   "version": "3.8.5"
  }
 },
 "nbformat": 4,
 "nbformat_minor": 4
}
