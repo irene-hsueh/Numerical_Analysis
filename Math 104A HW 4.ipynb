{
 "cells": [
  {
   "cell_type": "markdown",
   "metadata": {},
   "source": [
    "# Problem 1"
   ]
  },
  {
   "cell_type": "markdown",
   "metadata": {},
   "source": [
    "Use the definition of $<\\cdot,\\cdot>$ and $\\|\\cdot\\|$, we get\n",
    "$$\n",
    "\\begin{aligned}\n",
    "\\|\\phi_0+\\phi_1+\\cdots+\\phi_n\\|^2=<\\sum^{n}_{j=0}\\phi_j,\\sum^{n}_{j=0}\\phi_j>=\\sum^{n}_{j=0}\\sum^{n}_{k=0}<\\phi_j,\\phi_k>\\\\\n",
    "=\\sum^{n}_{j=0}<\\phi_j,\\phi_j>=\\|\\phi_0\\|^2+\\|\\phi_1\\|^2+\\cdots+\\|\\phi_n\\|^2\n",
    "\\end{aligned}\n",
    "$$\n",
    "\n"
   ]
  },
  {
   "cell_type": "markdown",
   "metadata": {},
   "source": [
    "# Problem 2"
   ]
  },
  {
   "cell_type": "markdown",
   "metadata": {},
   "source": [
    "- \n",
    "\n",
    "The first $5$ Legendre polynomials are given by \n",
    "$$\n",
    "\\psi_{0}(x)=1\n",
    "$$\n",
    "\n",
    "$$\n",
    "\\psi_{1}(x)=x\n",
    "$$\n",
    "\n",
    "$$\n",
    "\\psi_{2}(x)=x\\psi_{1}(x)-\\frac{<\\psi_{1},\\psi_{1}>}{<\\psi_{0},\\psi_{0}>}\\psi_{0}(x)=x^2-\\frac{2/3}{2}=x^2-\\frac{1}{3}\n",
    "$$\n",
    "\n",
    "$$\n",
    "\\psi_{3}(x)=x\\psi_{2}(x)-\\frac{<\\psi_{2},\\psi_{2}>}{<\\psi_{1},\\psi_{1}>}\\psi_{1}(x)=x(x^2-\\frac{1}{3})-\\frac{8/45}{2/3}x=x^3-\\frac{3}{5}x \n",
    "$$\n",
    "\n",
    "$$\n",
    "\\psi_{4}(x)=x\\psi_{3}(x)-\\frac{<\\psi_{3},\\psi_{3}>}{<\\psi_{2},\\psi_{2}>}\\psi_{2}(x)=x(x^3-\\frac{3}{5}x)-\n",
    "\\frac{8/175}{8/45}(x^2-\\frac{1}{3})=x^4-\\frac{6}{7}x^2+\\frac{3}{35}\n",
    "$$\n",
    "\n",
    "- \n",
    "\n",
    "The least squares polynomial approximations of degree $n$ for the function $f(x)=e^{x}$ on $[-1,1]$ are give by\n",
    "$$\n",
    "p_n(x)=\\sum^{n}_{i=0}a_{i}\\psi_{i}(x)\n",
    "$$\n",
    "where $\\psi_i(x)$'s are Legendre polynomials and $a_i=<\\psi_i,e^x>/<\\psi_i,\\psi_i>$. The coefficients are given by\n",
    "$$\n",
    "a_0=\\frac{<\\psi_0,e^x>}{<\\psi_0,\\psi_0>}=\\frac{e-e^{-1}}{2}\n",
    "$$\n",
    "\n",
    "$$\n",
    "a_1=\\frac{<\\psi_1,e^x>}{<\\psi_1,\\psi_1>}=\\frac{2e^{-1}}{2/3}=3e^{-1} \n",
    "$$\n",
    "\n",
    "$$\n",
    "a_2=\\frac{<\\psi_2,e^x>}{<\\psi_2,\\psi_2>}=\\frac{2e/3-14e^{-1}/3}{8/45}=\\frac{15e-105e^{-1}}{4}\n",
    "$$\n",
    "\n",
    "$$\n",
    "a_3=\\frac{<\\psi_3,e^x>}{<\\psi_3,\\psi_3>}=\\frac{-2e+74e^{-1}/5}{8/175}=\\frac{-175e^{-1}+1295e^{-1}}{4}\n",
    "$$\n",
    "\n",
    "Thus the least squares polynomial approximations of degrees $1$, $2$, and $3$ for the function $f(x)=e^{x}$ on $[-1,1]$ are\n",
    "$$\n",
    "p_1(x)=\\sum^{1}_{i=0}a_{i}\\psi_{i}(x)=3e^{-1}x+\\frac{e-e^{-1}}{2}\n",
    "$$\n",
    "\n",
    "$$\n",
    "P_2(x)=\\sum^{2}_{i=0}a_{i}\\psi_{i}(x)=\\frac{15e-105e^{-1}}{4}x^2+3e^{-1}x+\\frac{-3e+33e^{-1}}{4}\n",
    "$$\n",
    "\n",
    "$$\n",
    "P_3(x)=\\sum^{3}_{i=0}a_{i}\\psi_{i}(x)=\\frac{-175e+1295e^{-1}}{4}x^3+\\frac{15e-105e^{-1}}{4}x^2+\\frac{105e-765e^{-1}}{4}x+\\frac{-3e+33e^{-1}}{4}\n",
    "$$\n",
    "\n",
    "- \n",
    "\n",
    "Since $f(x)=x^2-1$ on $x\\in[-1,1]$ is a polynomial of degree $2$, there is no polynomial least squares approximation of degree $3$.\n",
    "\n"
   ]
  },
  {
   "cell_type": "markdown",
   "metadata": {},
   "source": [
    "# Problem 3"
   ]
  },
  {
   "cell_type": "markdown",
   "metadata": {},
   "source": [
    "The Chebyshev polynomials are given by\n",
    "$$\n",
    "T_n(\\cos{\\theta})=\\cos{n\\theta},\\ \\theta\\in [0,\\pi]\n",
    "$$\n",
    "for $n=0,1,\\dots$ Thus\n",
    "$$\n",
    "\\begin{aligned}\n",
    "\\frac{2}{\\pi}\\int^{1}_{-1}\\frac{T^2_n(x)}{\\sqrt{1-x^2}}dx&=\\frac{2}{\\pi}\\int^{0}_{-\\pi}\\frac{\\cos^2{n\\theta}}{\\sin{\\theta}}(-\\sin{\\theta})d\\theta=\\frac{2}{\\pi}\\int^{\\pi}_{0}\\cos^2{n\\theta}d\\theta\\\\\n",
    "&=\\frac{2}{\\pi}\\int^{\\pi}_{0}\\frac{\\cos{2n\\theta}+1}{2}d\\theta=\\frac{1}{\\pi}\\int^{\\pi}_{0}\\cos{2n\\theta}d\\theta+1\\\\\n",
    "&=\\frac{1}{2\\pi n}(\\sin{2\\pi n}-\\sin{0})+1=1\n",
    "\\end{aligned}\n",
    "$$\n",
    "\n"
   ]
  },
  {
   "cell_type": "markdown",
   "metadata": {},
   "source": [
    "# Problem 4"
   ]
  },
  {
   "cell_type": "markdown",
   "metadata": {},
   "source": [
    "The monic Chebyshev polynomials are given by\n",
    "$$\n",
    "\\begin{aligned}\n",
    "\\tilde{T}_0(x)&=1\\\\\n",
    "\\tilde{T}_n(x)&=\\frac{1}{2^{n-1}}T_{n}(x), \\ n\\ge 1\n",
    "\\end{aligned}\n",
    "$$\n",
    "where\n",
    "$$\n",
    "T_n(\\cos{\\theta})=\\cos{n\\theta},\\ \\theta\\in [0,\\pi]\n",
    "$$\n"
   ]
  },
  {
   "cell_type": "code",
   "execution_count": 1,
   "metadata": {},
   "outputs": [
    {
     "data": {
      "image/png": "[encoded data removed]",
      "text/plain": [
       "<Figure size 432x288 with 6 Axes>"
      ]
     },
     "metadata": {
      "needs_background": "light"
     },
     "output_type": "display_data"
    }
   ],
   "source": [
    "import numpy as np\n",
    "import matplotlib.pyplot as plt\n",
    "\n",
    "theta = np.linspace(0, np.pi)\n",
    "x = np.cos(theta)\n",
    "\n",
    "N = 6\n",
    "\n",
    "fig, axs = plt.subplots(2, N//2, sharex=True, sharey=True)\n",
    "\n",
    "for n in range(N):\n",
    "    # the Chebyshev polynomial\n",
    "    Tn = np.cos(n*theta)\n",
    "    # the monic Chebyshev polynomial\n",
    "    if n == 0:\n",
    "        Tnt = Tn\n",
    "    else:\n",
    "        Tnt = Tn/(2**(n-1))\n",
    "    \n",
    "    # show results\n",
    "    ax = axs[n%2, n//2]\n",
    "    ax.plot(x, Tnt)\n",
    "    ax.set_title(r'$\\tilde{T}_{%d}$'%n)\n",
    "    ax.grid()\n",
    "\n",
    "fig.suptitle('monic Chebyshev polynomial')\n",
    "\n",
    "plt.show()"
   ]
  },
  {
   "cell_type": "markdown",
   "metadata": {},
   "source": [
    "# Problem 5"
   ]
  },
  {
   "cell_type": "markdown",
   "metadata": {},
   "source": [
    "- \n",
    "\n",
    "Given a collection of data points $\\{(x_i,y_i)\\}^m_{i=1}$. The error for this approximation is\n",
    "$$\n",
    "E[a,b]=\\sum^{m}_{i=1}(y_i-ax_i-bx_i^2)^2\n",
    "$$\n",
    "Find $a$, $b$\n",
    "$$\n",
    "\\frac{\\partial E}{\\partial a}=-2\\sum^{m}_{i=1}x_i(y_i-ax_i-bx_i^2)=0\n",
    "$$\n",
    "\n",
    "$$\n",
    "\\frac{\\partial E}{\\partial b}=-2\\sum^{m}_{i=1}x_i^2(y_i-ax_i-bx_i^2)=0\n",
    "$$\n",
    "\n",
    "Then\n",
    "$$\n",
    "a=\\frac{\\sum^{m}_{i=1}x_i^3\\sum^{m}_{i=1}x_i^2y_i-\\sum^{m}_{i=1}x_i^4\\sum^{m}_{i=1}x_iy_i}{\\sum^{m}_{i=1}x_i^3\\sum^{m}_{i=1}x_i^3-\\sum^{m}_{i=1}x_i^2\\sum^{m}_{i=1}x_i^4}\n",
    "$$\n",
    "\n",
    "$$\n",
    "b=\\frac{\\sum^{m}_{i=1}x_i^3\\sum^{m}_{i=1}x_iy_i-\\sum^{m}_{i=1}x_i^2\\sum^{m}_{i=1}x_i^2y_i}{\\sum^{m}_{i=1}x_i^3\\sum^{m}_{i=1}x_i^3-\\sum^{m}_{i=1}x_i^2\\sum^{m}_{i=1}x_i^4}\n",
    "$$\n"
   ]
  },
  {
   "cell_type": "markdown",
   "metadata": {},
   "source": [
    "- find this approximation"
   ]
  },
  {
   "cell_type": "code",
   "execution_count": 2,
   "metadata": {},
   "outputs": [
    {
     "name": "stdout",
     "output_type": "stream",
     "text": [
      "a = 0.9641935483871015\n",
      "b = 2.017741935483871\n",
      "approximation y = 0.964194x + 2.01774x^2\n"
     ]
    }
   ],
   "source": [
    "x = np.array([1, 2, 3, 4])\n",
    "y = np.array([3.1, 9.8, 21.2, 36.1])\n",
    "\n",
    "sx2 = sum(x**2)\n",
    "sx3 = sum(x**3)\n",
    "sx4 = sum(x**4)\n",
    "sxy = sum(x*y)\n",
    "sx2y = sum(x**2*y)\n",
    "\n",
    "a = (sx3*sx2y-sx4*sxy)/(sx3**2-sx2*sx4)\n",
    "b = (sx3*sxy-sx2*sx2y)/(sx3**2-sx2*sx4)\n",
    "\n",
    "print('a =', a)\n",
    "print('b =', b)\n",
    "print('approximation y = %gx + %gx^2'%(a, b))"
   ]
  },
  {
   "cell_type": "markdown",
   "metadata": {},
   "source": [
    "- find the error in the least squares approximation"
   ]
  },
  {
   "cell_type": "code",
   "execution_count": 3,
   "metadata": {},
   "outputs": [
    {
     "name": "stdout",
     "output_type": "stream",
     "text": [
      "Error = 0.07716129032257978\n"
     ]
    }
   ],
   "source": [
    "E = sum((y - a*x - b*x**2)**2)\n",
    "print('Error =', E)"
   ]
  }
 ],
 "metadata": {
  "kernelspec": {
   "display_name": "Python 3",
   "language": "python",
   "name": "python3"
  },
  "language_info": {
   "codemirror_mode": {
    "name": "ipython",
    "version": 3
   },
   "file_extension": ".py",
   "mimetype": "text/x-python",
   "name": "python",
   "nbconvert_exporter": "python",
   "pygments_lexer": "ipython3",
   "version": "3.8.5"
  }
 },
 "nbformat": 4,
 "nbformat_minor": 4
}
