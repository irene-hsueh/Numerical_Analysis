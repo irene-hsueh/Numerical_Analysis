{
 "cells": [
  {
   "cell_type": "code",
   "execution_count": 1,
   "metadata": {},
   "outputs": [],
   "source": [
    "# import the packages we need \n",
    "import numpy as np\n",
    "import matplotlib.pyplot as plt"
   ]
  },
  {
   "cell_type": "markdown",
   "metadata": {},
   "source": [
    "# Question 3"
   ]
  },
  {
   "cell_type": "markdown",
   "metadata": {},
   "source": [
    "## (a)"
   ]
  },
  {
   "cell_type": "markdown",
   "metadata": {},
   "source": [
    "Write a python code to evaluate the Lebesgue function (1) associated to a given set of pairwise distinct nodes\n"
   ]
  },
  {
   "cell_type": "code",
   "execution_count": 2,
   "metadata": {},
   "outputs": [],
   "source": [
    "def lebesgue(x, xn):      #This function compute the Lebesgue function at x. x is the coordinate of a point and xn denotes the nodes\n",
    "    l = 0\n",
    "    for i in range(len(xn)):\n",
    "        num = np.prod(x-xn[:i])*np.prod(x-xn[i+1:])\n",
    "        den = np.prod(xn[i]-xn[:i])*np.prod(xn[i]-xn[i+1:])\n",
    "        l += np.abs(num/den)\n",
    "    return l"
   ]
  },
  {
   "cell_type": "markdown",
   "metadata": {},
   "source": [
    "## (b)"
   ]
  },
  {
   "cell_type": "code",
   "execution_count": 3,
   "metadata": {},
   "outputs": [
    {
     "name": "stdout",
     "output_type": "stream",
     "text": [
      "Lambda_n = 2.20782, for n = 4\n",
      "Lambda_n = 29.8981, for n = 10\n",
      "Lambda_n = 10979.2, for n = 20\n"
     ]
    },
    {
     "data": {
      "image/png": "[encoded data removed]",
      "text/plain": [
       "<Figure size 864x144 with 3 Axes>"
      ]
     },
     "metadata": {
      "needs_background": "light"
     },
     "output_type": "display_data"
    }
   ],
   "source": [
    "ns = (4,10,20)  # test n\n",
    "fig, ax = plt.subplots(1,len(ns),figsize=(12,2))  # figure\n",
    "\n",
    "for axi, n in zip(ax, ns):\n",
    "    xn = -1 + (2/n)*np.arange(n+1)  # nodes\n",
    "    xk = -1 + (2/1000)*np.arange(1001)  # estimated nodes\n",
    "    \n",
    "    # compute lebesgue function\n",
    "    Ln = np.zeros(len(xk))\n",
    "    for i in range(len(xk)):\n",
    "        Ln[i] = lebesgue(xk[i], xn)\n",
    "    \n",
    "    # plot Ln\n",
    "    axi.plot(xk, Ln)\n",
    "    axi.set_title(\"n=%d\"%n)\n",
    "    \n",
    "    # estimate Lambdan\n",
    "    Lambdan = max(Ln)\n",
    "    print(\"Lambda_n = %g, for n = %d\"%(Lambdan, n))\n",
    "\n",
    "plt.show()"
   ]
  },
  {
   "cell_type": "markdown",
   "metadata": {},
   "source": [
    "# Question 4"
   ]
  },
  {
   "cell_type": "code",
   "execution_count": 4,
   "metadata": {},
   "outputs": [],
   "source": [
    "def baryweigths(xn): # Barycentric weights for aribitrary nodes xn. xn denotes the nodes.\n",
    "    weights = np.ones(len(xn))   \n",
    "    \n",
    "    for i in range(1, len(xn)):\n",
    "        for j in range(i):\n",
    "            weights[j] = weights[j]/(xn[j]-xn[i])\n",
    "        weights[i] = 1/np.prod(xn[i]-xn[:i])\n",
    "    \n",
    "    return weights\n",
    "\n",
    "def barycentric(x, xn, yn, weights):   # Compute the Barycentric Formula. x denotes the x coordinate of a point, xn denotes the nodes, yn denotes the values of the nodes, and weights refer to the Barycentric weights.\n",
    "    if np.any(x==xn):\n",
    "       return yn[x==xn]\n",
    "    else:\n",
    "        t = weights/(x-xn)\n",
    "        return sum(t*yn)/sum(t)     # Return the value of the interpolating polynomial at x "
   ]
  },
  {
   "cell_type": "markdown",
   "metadata": {},
   "source": [
    "Now, we test our implementation by comparing the results in Question 2."
   ]
  },
  {
   "cell_type": "code",
   "execution_count": 5,
   "metadata": {},
   "outputs": [
    {
     "name": "stdout",
     "output_type": "stream",
     "text": [
      "1.3333333333333333 == 1.3333333333333333\n"
     ]
    }
   ],
   "source": [
    "xn = np.array([-2,0,1])  # nodes\n",
    "yn = np.array([0,1,-1])\n",
    "\n",
    "weights = baryweigths(xn)  # weights\n",
    "\n",
    "print(barycentric(-1, xn, yn, weights),'==',4/3)"
   ]
  },
  {
   "cell_type": "markdown",
   "metadata": {},
   "source": [
    "We can see that it is consistent with the result from Question 2."
   ]
  },
  {
   "cell_type": "markdown",
   "metadata": {},
   "source": [
    "Use the code in (a) to find $P_5(2)$ as an approximation of $f(2)$."
   ]
  },
  {
   "cell_type": "code",
   "execution_count": 6,
   "metadata": {},
   "outputs": [
    {
     "name": "stdout",
     "output_type": "stream",
     "text": [
      "P5(2) = -2.34383\n"
     ]
    }
   ],
   "source": [
    "xn = np.array([0,0.25,0.52,0.74,1.28,1.5])  # nodes\n",
    "yn = np.array([0,0.7070,1,0.7071,-0.7074,-1])\n",
    "\n",
    "weights = baryweigths(xn)  # weights\n",
    "\n",
    "print('P5(2) = %g'%(barycentric(2, xn, yn, weights)))"
   ]
  }
 ],
 "metadata": {
  "kernelspec": {
   "display_name": "Python 3",
   "language": "python",
   "name": "python3"
  },
  "language_info": {
   "codemirror_mode": {
    "name": "ipython",
    "version": 3
   },
   "file_extension": ".py",
   "mimetype": "text/x-python",
   "name": "python",
   "nbconvert_exporter": "python",
   "pygments_lexer": "ipython3",
   "version": "3.8.3"
  }
 },
 "nbformat": 4,
 "nbformat_minor": 4
}
